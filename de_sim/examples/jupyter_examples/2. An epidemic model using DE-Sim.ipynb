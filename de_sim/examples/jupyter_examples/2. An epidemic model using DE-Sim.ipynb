{
 "cells": [
  {
   "cell_type": "markdown",
   "metadata": {},
   "source": [
    "<!-- :Author: Arthur Goldberg <Arthur.Goldberg@mssm.edu> -->\n",
    "<!-- :Date: 2020-07-13 -->\n",
    "<!-- :Copyright: 2020, Karr Lab -->\n",
    "<!-- :License: MIT -->\n",
    "\n",
    "# A stochastic epidemic model\n",
    "\n",
    "Epidemics occur when infectious diseases spread through a susceptible population.\n",
    "Models that classify individuals by their infectious state are widely used to analyze and predict the dynamics of epidemics.\n",
    "A well-known and simple approach considers these three infectious states:\n",
    "\n",
    "* *Susceptible*: an individual who can become infected if exposed\n",
    "* *Infectious*: an individual who is infected, and can transmit the infection to a person who is susceptible\n",
    "* *Recovered*: an individual who has recovered from an infection, and is not susceptible to being reinfected\n",
    "\n",
    "Dynamic analyses of spreading infection that employ these states are called Susceptible, Infectious, or Recovered (SIR) epidemic models.\n",
    "SIR models are characterized by the initial population of individuals in each state and the rate at which individuals transition between states.\n",
    "\n",
    "![SIR model states and transitions](SIR_Flow_Diagram.svg)\n",
    "<i><center>SIR model states and transitions</center></i>\n",
    "\n",
    "In this figure, the transitions between states are labeled with the standard SIR transition rates, in individuals per unit time.\n",
    "S and I represent the number of individuals in states Susceptible and Infectious, respectively. &beta; and &gamma; are model parameters.\n",
    "\n",
    "We present a stochastic SIR model that demonstrates core features of DE-Sim.\n",
    "Epidemics must be modelled stochastically when the number of infectious individuals is small or when variability in the rates of transitions between model states influences an epidemic's trajectory.\n",
    "\n",
    "The SIR model below uses DE-Sim to implement a continuous-time Markov chain model, as described in section 3 of Allen (2017).\n",
    "It represents transitions by individuals to a new state as discrete events and selects each transition and its timing by random samples of their distributions.\n",
    "See Allen (2017) for a mathematical derivation of the approach.\n",
    "\n",
    "Let's implement and use the SIR model.\n",
    "First, use `pip` to install `de_sim`."
   ]
  },
  {
   "cell_type": "code",
   "execution_count": 2,
   "metadata": {},
   "outputs": [],
   "source": [
    "\"\"\"Example DE-Sim implementation of stochastic Susceptible, Infectious,\n",
    "   or Recovered (SIR) epidemic model\n",
    "\"\"\"\n",
    "\n",
    "import enum\n",
    "import numpy\n",
    "\n",
    "import de_sim\n",
    "\n",
    "\n",
    "class StateTransitionType(enum.Enum):\n",
    "    \" State transition types \"\n",
    "    s_to_i = 'Transition from Susceptible to Infectious'\n",
    "    i_to_r = 'Transition from Infectious to Recovered'\n",
    "\n",
    "\n",
    "class TransitionMessage(de_sim.EventMessage):\n",
    "    \"Message for all model transitions\"\n",
    "    transition_type: StateTransitionType\n",
    "\n",
    "\n",
    "MESSAGE_TYPES = [TransitionMessage]\n",
    "\n",
    "\n",
    "class SIR(de_sim.SimulationObject):\n",
    "    \"\"\" Implement a Susceptible, Infectious, or Recovered (SIR) epidemic model\n",
    "\n",
    "    This example uses DE-Sim to implement a continuous-time Markov chain (CTMC) SIR\n",
    "    epidemic model, as described in section 3 of Allen (2017).\n",
    "\n",
    "    Allen, L.J., 2017. A primer on stochastic epidemic models: Formulation, numerical\n",
    "    simulation, and analysis. Infectious Disease Modelling, 2(2), pp.128-142.\n",
    "\n",
    "    Attributes:\n",
    "        s (`int`): number of susceptible subjects\n",
    "        i (`int`): number of infectious subjects\n",
    "        N (`int`): total number of susceptible subjects, a constant\n",
    "        beta (`float`): SIR beta parameter\n",
    "        gamma (`float`): SIR gamma parameter\n",
    "        random_state (`numpy.random.RandomState`): a random state\n",
    "    \"\"\"\n",
    "    def __init__(self, name, s, i, N, beta, gamma):\n",
    "        \"\"\" Initialize an SIR instance\n",
    "\n",
    "        Args:\n",
    "            name (`str`): the instance's name\n",
    "            s (`int`): initial number of susceptible subjects, s(0)\n",
    "            i (`int`): initial number of infectious subjects, i(0)\n",
    "            N (`int`): total number of subjects, a constant\n",
    "            beta (`float`): SIR beta parameter\n",
    "            gamma (`float`): SIR gamma parameter\n",
    "        \"\"\"\n",
    "        self.s = s\n",
    "        self.i = i\n",
    "        self.N = N\n",
    "        self.beta = beta\n",
    "        self.gamma = gamma\n",
    "        self.random_state = numpy.random.RandomState()\n",
    "        super().__init__(name)\n",
    "\n",
    "    def init_before_run(self):\n",
    "        \" Initialize before a simulation run. Send the initial events. \"\n",
    "        self.schedule_next_event()\n",
    "\n",
    "    def schedule_next_event(self):\n",
    "        \" Schedule the next SIR event. \"\n",
    "        rates = {'s_to_i': self.beta * self.s * self.i / self.N,\n",
    "                 'i_to_r': self.gamma * self.i}\n",
    "        lambda_val = rates['s_to_i'] + rates['i_to_r']\n",
    "        if lambda_val == 0:\n",
    "            return\n",
    "\n",
    "        tau = self.random_state.exponential(1.0/lambda_val)\n",
    "        prob_s_to_i = rates['s_to_i'] / lambda_val\n",
    "        if self.random_state.random_sample() < prob_s_to_i:\n",
    "            self.send_event(tau, self, TransitionMessage(StateTransitionType.s_to_i))\n",
    "        else:\n",
    "            self.send_event(tau, self, TransitionMessage(StateTransitionType.i_to_r))\n",
    "\n",
    "    def handle_state_transition(self, event):\n",
    "        \"\"\" Handle an infectious state transition\n",
    "\n",
    "        Args:\n",
    "            event (`de_sim.Event`): simulation event that contains an event message\n",
    "        \"\"\"\n",
    "        transition_type = event.message.transition_type\n",
    "        if transition_type is StateTransitionType.s_to_i:\n",
    "            self.s -= 1\n",
    "            self.i += 1\n",
    "        elif transition_type is StateTransitionType.i_to_r:\n",
    "            self.i -= 1\n",
    "        self.schedule_next_event()\n",
    "\n",
    "\n",
    "    event_handlers = [(TransitionMessage, 'handle_state_transition')]\n",
    "\n",
    "    # register the message types sent\n",
    "    messages_sent = MESSAGE_TYPES"
   ]
  },
  {
   "cell_type": "markdown",
   "metadata": {},
   "source": [
    "Next we introduce the DE-Sim's checkpointing feature.\n",
    "A simulation's state is conceptualized as a set of values, and the state of its random number generator.\n",
    "A checkpointing object, an instance of `CheckpointSimulationObject`, will periodically checkpoint the simulation's state.\n",
    "It must be given an object that complies with the interface defined in `AccessStateObjectInterface`, which implements methods that return the simulation's state (`get_checkpoint_state`) and random number generator state (`get_random_state`), as shown in `AccessSIRObjectState` below."
   ]
  },
  {
   "cell_type": "code",
   "execution_count": 3,
   "metadata": {},
   "outputs": [],
   "source": [
    "from de_sim.checkpoint import AccessCheckpoints, Checkpoint\n",
    "from de_sim.simulation_checkpoint_object import (AccessStateObjectInterface,\n",
    "                                                 CheckpointSimulationObject)\n",
    "\n",
    "class AccessSIRObjectState(AccessStateObjectInterface):\n",
    "    \"\"\" Get the state of an SIR object\n",
    "\n",
    "    Attributes:\n",
    "        sir (`obj`): an SIR object\n",
    "        random_state (`numpy.random.RandomState`): a random state\n",
    "    \"\"\"\n",
    "\n",
    "    def __init__(self, sir):\n",
    "        self.sir = sir\n",
    "        self.random_state = sir.random_state\n",
    "\n",
    "    def get_checkpoint_state(self, time):\n",
    "        \"\"\" Get the SIR simulation's state\n",
    "\n",
    "        Args:\n",
    "            time (`float`): current time; ignored\n",
    "        \"\"\"\n",
    "        return dict(s=self.sir.s,\n",
    "                    i=self.sir.i)\n",
    "\n",
    "    def get_random_state(self):\n",
    "        \"\"\" Get the SIR object's random state\n",
    "        \"\"\"\n",
    "        return self.random_state.get_state()"
   ]
  },
  {
   "cell_type": "markdown",
   "metadata": {},
   "source": [
    "The next cell defines code to run the SIR model and visualize its predictions.\n",
    "An instance of `CheckpointSimulationObject` is added to the simulation. It needs a name, its checkpointing period, a directory in which to save checkpoints, and an object that can access the simulation's state, like `AccessSIRObjectState` above.\n",
    "The `AccessCheckpoints` class obtains checkpoint data from the directory storing them."
   ]
  },
  {
   "cell_type": "code",
   "execution_count": 4,
   "metadata": {},
   "outputs": [],
   "source": [
    "import pandas\n",
    "\n",
    "class RunSIR(object):\n",
    "\n",
    "    def __init__(self, checkpoint_dir):\n",
    "        self.checkpoint_dir = checkpoint_dir\n",
    "\n",
    "    def simulate(self, recording_period, max_time, **sir_args):\n",
    "        \"\"\" Create and run an SIR simulation\n",
    "\n",
    "        Args:\n",
    "            recording_period (`float`): interval between state checkpoints\n",
    "            max_time (`float`): simulation end time\n",
    "            sir_args (`dict`): arguments for an SIR object\n",
    "        \"\"\"\n",
    "        # create a simulator\n",
    "        simulator = de_sim.Simulator()\n",
    "\n",
    "        # create an SIR instance\n",
    "        self.sir = sir = SIR(**sir_args)\n",
    "        simulator.add_object(sir)\n",
    "\n",
    "        # create a checkpoint simulation object\n",
    "        access_state_object = AccessSIRObjectState(sir)\n",
    "        checkpointing_obj = CheckpointSimulationObject('checkpointing_obj',\n",
    "                                                       recording_period,\n",
    "                                                       self.checkpoint_dir,\n",
    "                                                       access_state_object)\n",
    "        simulator.add_object(checkpointing_obj)\n",
    "\n",
    "        # initialize simulation, which sends the SIR instance an initial event message\n",
    "        simulator.initialize()\n",
    "\n",
    "        # run the simulation\n",
    "        event_num = simulator.simulate(max_time).num_events\n",
    "\n",
    "    def last_checkpoint(self):\n",
    "        \"\"\" Get the last checkpoint of the last simulation run\n",
    "\n",
    "        Returns:\n",
    "            `Checkpoint`: the last checkpoint of the last simulation run\n",
    "        \"\"\"\n",
    "        access_checkpoints = AccessCheckpoints(self.checkpoint_dir)\n",
    "        last_checkpoint_time = access_checkpoints.list_checkpoints()[-1]\n",
    "        return access_checkpoints.get_checkpoint(time=last_checkpoint_time)\n",
    "\n",
    "    def history_to_dataframe(self):\n",
    "        \"\"\" Convert the checkpoint history to a Pandas dataframe\n",
    "\n",
    "        Returns:\n",
    "            `pandas.DataFrame`: SIR values are columns, rows are timepoints\n",
    "        \"\"\"\n",
    "        fields = ('s', 'i', 'r')\n",
    "        hist = []\n",
    "        index = []\n",
    "        access_checkpoints = AccessCheckpoints(self.checkpoint_dir)\n",
    "        for checkpoint_time in access_checkpoints.list_checkpoints():\n",
    "            state = access_checkpoints.get_checkpoint(time=checkpoint_time).state\n",
    "            state_as_list = [state['s'], state['i'], self.sir.N - state['s'] - state['i']]\n",
    "            hist.append(dict(zip(fields, state_as_list)))\n",
    "            index.append(checkpoint_time)\n",
    "        return pandas.DataFrame(hist)"
   ]
  },
  {
   "cell_type": "markdown",
   "metadata": {},
   "source": [
    "Let's use the model to view an epidemic's predictions.\n",
    "We use parameters from Allen (2017), and print and plot the trajectory of a single simulation.\n",
    "Since the model is stochastic, each run produces a different trajectory."
   ]
  },
  {
   "cell_type": "code",
   "execution_count": 5,
   "metadata": {},
   "outputs": [
    {
     "data": {
      "image/png": "[encoded data removed]",
      "text/plain": [
       "<Figure size 432x288 with 1 Axes>"
      ]
     },
     "metadata": {
      "needs_background": "light"
     },
     "output_type": "display_data"
    }
   ],
   "source": [
    "import tempfile\n",
    "\n",
    "sir_args = dict(name='sir',\n",
    "                s=98,\n",
    "                i=2,\n",
    "                N=100,\n",
    "                beta=0.3,\n",
    "                gamma=0.15)\n",
    "with tempfile.TemporaryDirectory() as tmpdirname:\n",
    "    run_sir = RunSIR(tmpdirname)\n",
    "    run_sir.simulate(10, 100, **sir_args)\n",
    "\n",
    "    # print and plot an epidemic's predicted trajectory\n",
    "    sir_data_frame = run_sir.history_to_dataframe()\n",
    "    axes = sir_data_frame.plot()\n",
    "    axes.set_xlabel(\"Time\")\n",
    "    rv = axes.set_ylabel(\"Population\")"
   ]
  },
  {
   "cell_type": "markdown",
   "metadata": {},
   "source": [
    "An important prediction generated by the SIR model is the severity of the epidemic, which can be summarized by the fraction of people who became infected.\n",
    "We run an ensemble of simulations and examine the predicted distribution of severity."
   ]
  },
  {
   "cell_type": "code",
   "execution_count": 6,
   "metadata": {},
   "outputs": [
    {
     "data": {
      "image/png": "[encoded data removed]",
      "text/plain": [
       "<Figure size 432x288 with 1 Axes>"
      ]
     },
     "metadata": {
      "needs_background": "light"
     },
     "output_type": "display_data"
    }
   ],
   "source": [
    "import math\n",
    "\n",
    "num_sims = 100\n",
    "infection_rates= []\n",
    "\n",
    "for _ in range(num_sims):\n",
    "    with tempfile.TemporaryDirectory() as tmpdirname:\n",
    "        run_sirs = RunSIR(tmpdirname)\n",
    "        run_sirs.simulate(recording_period=10, max_time=60, **sir_args)\n",
    "        # infection rate = infectious + recovered\n",
    "        # N = s + i + r => i + r = N - s\n",
    "        final_state = run_sirs.last_checkpoint().state\n",
    "        N = sir_args['N']\n",
    "        infection_rate = (N - final_state['s'])/N\n",
    "        infection_rates.append(infection_rate)\n",
    "\n",
    "import matplotlib.pyplot as plt\n",
    "fig = plt.figure()\n",
    "ax = fig.add_subplot(111)\n",
    "rv = plt.hist(infection_rates)\n",
    "ax.set_title('Infection rate distribution')\n",
    "ax.set_xlabel('Infection rate')\n",
    "rv = ax.set_ylabel('Frequency')"
   ]
  },
  {
   "cell_type": "markdown",
   "metadata": {},
   "source": [
    "As predicted by Allen's (2017) analysis, for the parameters in `sir_args` the infection rate distribution is bimodal. Most of the epidemics infect a majority of the population and a small fraction of them (Allen predicts 25%) burn out and infect only a minority of the population.\n",
    "\n",
    "The simple model above only touches the surface of epidemic modeling. Many extensions are possible:\n",
    "\n",
    "* A spatial model with multiple geographic areas: each area would be represented by an instance of SIR.\n",
    "* An extension of the spatial model that also represents travel between geographic areas\n",
    "* A model that represents individuals in more states, such as multiple infectious states which distinguish between asymptomatic and symptomatic individuals, with a lower transmission parameter &beta; for symptomatic individuals who would likely isolate while recovering\n",
    "* A model that can model both small and large populations: it would use the stochastic approach above to integrate small populations and ODEs to integrate large populations. Models and simulators that use multiple integration methods are called *multi-algorithmic*.\n",
    "\n",
    "We encourage you to experiment with different parameters for this model and build your own models!"
   ]
  },
  {
   "cell_type": "markdown",
   "metadata": {},
   "source": [
    "**References**\n",
    "\n",
    "Allen, L.J., 2017. A primer on stochastic epidemic models: Formulation, numerical\n",
    "simulation, and analysis. Infectious Disease Modelling, 2(2), pp.128-142."
   ]
  }
 ],
 "metadata": {
  "kernelspec": {
   "display_name": "Python 3",
   "language": "python",
   "name": "python3"
  },
  "language_info": {
   "codemirror_mode": {
    "name": "ipython",
    "version": 3
   },
   "file_extension": ".py",
   "mimetype": "text/x-python",
   "name": "python",
   "nbconvert_exporter": "python",
   "pygments_lexer": "ipython3",
   "version": "3.7.6"
  },
  "toc": {
   "base_numbering": 1,
   "nav_menu": {},
   "number_sections": false,
   "sideBar": true,
   "skip_h1_title": false,
   "title_cell": "Table of Contents",
   "title_sidebar": "Contents",
   "toc_cell": false,
   "toc_position": {
    "height": "calc(100% - 180px)",
    "left": "10px",
    "top": "150px",
    "width": "165px"
   },
   "toc_section_display": true,
   "toc_window_display": false
  },
  "varInspector": {
   "cols": {
    "lenName": 16,
    "lenType": 16,
    "lenVar": 40
   },
   "kernels_config": {
    "python": {
     "delete_cmd_postfix": "",
     "delete_cmd_prefix": "del ",
     "library": "var_list.py",
     "varRefreshCmd": "print(var_dic_list())"
    },
    "r": {
     "delete_cmd_postfix": ") ",
     "delete_cmd_prefix": "rm(",
     "library": "var_list.r",
     "varRefreshCmd": "cat(var_dic_list()) "
    }
   },
   "types_to_exclude": [
    "module",
    "function",
    "builtin_function_or_method",
    "instance",
    "_Feature"
   ],
   "window_display": false
  }
 },
 "nbformat": 4,
 "nbformat_minor": 4
}
