{
 "cells": [
  {
   "cell_type": "markdown",
   "metadata": {},
   "source": [
    "<!-- :Author: Arthur Goldberg <Arthur.Goldberg@mssm.edu> -->\n",
    "<!-- :Date: 2020-07-13 -->\n",
    "<!-- :Copyright: 2020, Karr Lab -->\n",
    "<!-- :License: MIT -->\n",
    "\n",
    "# A stochastic epidemic model\n",
    "\n",
    "Epidemics occur when infectious diseases spread through a susceptible population.\n",
    "Models that classify individuals by their infectious state are widely used to analyze and predict the dynamics of epidemics.\n",
    "A well-known and simple approach considers these three infectious states:\n",
    "\n",
    "* *Susceptible*: an individual who can become infected if exposed\n",
    "* *Infectious*: an individual who is infected, and can transmit the infection to a person who is susceptible\n",
    "* *Recovered*: an individual who has recovered from an infection, and is not susceptible to being reinfected\n",
    "\n",
    "Dynamic analyses of spreading infection that employ these states are called Susceptible, Infectious, or Recovered (SIR) epidemic models.\n",
    "SIR models are characterized by the initial population of individuals in each state and the rates at which individuals transition between states.\n",
    "\n",
    "![SIR model states and transitions](figures/SIR_Flow_Diagram.svg)\n",
    "<i><center>SIR model states and transitions</center></i>\n",
    "\n",
    "In this figure, the transitions between states are labeled with the standard SIR transition rates, in individuals per unit time.\n",
    "*S* and *I* represent the number of individuals in states Susceptible and Infectious, respectively, *N* is the total number of individauls, and &beta; and &gamma; are model parameters, with units of 1/day.\n",
    "\n",
    "We present a stochastic SIR model that demonstrates core features of DE-Sim.\n",
    "Epidemics must be modelled stochastically when the number of infectious individuals is small or when variability in the rates of transitions between model states influences an epidemic's trajectory.\n",
    "\n",
    "The SIR model below uses DE-Sim to implement a continuous-time Markov chain model, as described in section 3 of Allen (2017).\n",
    "See Allen (2017) for a mathematical derivation of the approach.\n",
    "\n",
    "Let's implement and use a SIR model.\n",
    "First, use `pip` to install `de_sim`."
   ]
  },
  {
   "cell_type": "code",
   "execution_count": 1,
   "metadata": {},
   "outputs": [],
   "source": [
    "import de_sim"
   ]
  },
  {
   "cell_type": "markdown",
   "metadata": {},
   "source": [
    "We will create a SIR model that represents every transition of an individual between states as a discrete event.\n",
    "The model will iterate over many events.\n",
    "\n",
    "First, let's represent the state of a SIR model. A `SIR` object stores the number of individuals in the S and I states, and the total number of individuals. It also stores the rate constants for transitions. a SIR object is initialized with the initial state of the epidemic.\n",
    "It also stores a random number generator, which will be used to obtain stochastic samples."
   ]
  },
  {
   "cell_type": "code",
   "execution_count": 2,
   "metadata": {},
   "outputs": [],
   "source": [
    "import numpy\n",
    "\n",
    "class SIR(object):\n",
    "    \"\"\" Implement a Susceptible, Infectious, or Recovered (SIR) epidemic model\n",
    "\n",
    "    Attributes:\n",
    "        s (`int`): number of susceptible individuals\n",
    "        i (`int`): number of infectious individuals\n",
    "        N (`int`): total number of individuals, a constant\n",
    "        beta (`float`): SIR beta parameter, in 1/day units\n",
    "        gamma (`float`): SIR gamma parameter, in 1/day units\n",
    "    \"\"\"\n",
    "    def __init__(self, s, i, N, beta, gamma):\n",
    "        \"\"\" Initialize a SIR instance\n",
    "\n",
    "        Args:\n",
    "            s (`int`): initial number of susceptible individuals, s(0)\n",
    "            i (`int`): initial number of infectious individuals, i(0)\n",
    "            N (`int`): total number of individuals, a constant\n",
    "            beta (`float`): SIR beta parameter\n",
    "            gamma (`float`): SIR gamma parameter\n",
    "        \"\"\"\n",
    "        self.s = s\n",
    "        self.i = i\n",
    "        self.N = N\n",
    "        self.beta = beta\n",
    "        self.gamma = gamma\n",
    "        self.random_state = numpy.random.RandomState()"
   ]
  },
  {
   "cell_type": "markdown",
   "metadata": {},
   "source": [
    "## Overview\n",
    "\n",
    "The SIR model iterates over a sequence of events that occur at discrete times. Each iteration does the following:\n",
    "1. receive an event\n",
    "2. execute the transition encoded in the event message\n",
    "3. plan the next transition\n",
    "4. schedule the next event\n",
    "\n",
    "Next, we create the logic for handling transitions in steps 2 and 3. Below we add code to run steps 1 and 4.\n",
    "\n",
    "The transitions can be encoded in an emum:"
   ]
  },
  {
   "cell_type": "code",
   "execution_count": 3,
   "metadata": {},
   "outputs": [],
   "source": [
    "import enum\n",
    "\n",
    "class StateTransitionType(enum.Enum):\n",
    "    \" State transition types \"\n",
    "    s_to_i = 'Transition from Susceptible to Infectious'\n",
    "    i_to_r = 'Transition from Infectious to Recovered'"
   ]
  },
  {
   "cell_type": "markdown",
   "metadata": {},
   "source": [
    "This `SIR` method simply transitions one individual between states."
   ]
  },
  {
   "cell_type": "code",
   "execution_count": 4,
   "metadata": {},
   "outputs": [],
   "source": [
    "def handle_state_transition(self, transition_type):\n",
    "    \"\"\" Handle an infectious state transition\n",
    "\n",
    "    Args:\n",
    "        transition_type (`StateTransitionType`): a transition type\n",
    "    \"\"\"\n",
    "    if transition_type is StateTransitionType.s_to_i:\n",
    "        # move an individual from state s to state i\n",
    "        self.s -= 1\n",
    "        self.i += 1\n",
    "    elif transition_type is StateTransitionType.i_to_r:\n",
    "        self.i -= 1\n",
    "\n",
    "# We add this method to SIR\n",
    "setattr(SIR, 'handle_state_transition', handle_state_transition)"
   ]
  },
  {
   "cell_type": "markdown",
   "metadata": {},
   "source": [
    "## Event messages\n",
    "\n",
    "Each simulation event carries a `DE-Sim` `EventMessage` that describes the event's action.\n",
    "An event is executed at a discrete simulation time specified when the event is scheduled (sent).\n",
    "\n",
    "Next we define `TransitionMessage`, an `EventMessage` subclass that indicates which transition should occur.\n",
    "The attribute, `transition_type`, will store a `StateTransitionType` instance.\n",
    "\n",
    "[`EventMessage`](https://docs.karrlab.org/de_sim/master/source/de_sim.html#de_sim.event_message.EventMessage) supports declarative definition of subclasses that automatically define their variables.\n",
    "Like Python [Data Classes](https://docs.python.org/3/library/dataclasses.html), `EventMessage`s are defined using [PEP 526](https://www.python.org/dev/peps/pep-0526) type annotations.\n",
    "An event message class should be documented by a docstring, as illustrated."
   ]
  },
  {
   "cell_type": "code",
   "execution_count": 5,
   "metadata": {},
   "outputs": [],
   "source": [
    "class TransitionMessage(de_sim.EventMessage):\n",
    "    \"Message for all model transitions\"\n",
    "    transition_type: StateTransitionType"
   ]
  },
  {
   "cell_type": "markdown",
   "metadata": {},
   "source": [
    "Next we create a `SIR` method that plans the next transition. `rates` contains the rates of the two possible transitions. If both rates are 0 then `lambda_val == 0`, no transitions will occur, and `None` is returned.\n",
    "Otherwise, the delay until the next event is sampled from an exponential distribution.\n",
    "A uniform random sample is used weigh the transition type probabilities according to their relative rates.\n",
    "The tuple returned will be used to schedule the next event."
   ]
  },
  {
   "cell_type": "code",
   "execution_count": 6,
   "metadata": {},
   "outputs": [],
   "source": [
    "def plan_next_transition(self):\n",
    "    \"\"\" Schedule the next SIR event.\n",
    "\n",
    "    Returns:\n",
    "        :obj:`tuple`: a pair (the delay to the event, the event's message if an event is\n",
    "            scheduled, otherwise :obj:`None`\n",
    "    \"\"\"\n",
    "    rates = {'s_to_i': self.beta * self.s * self.i / self.N,\n",
    "             'i_to_r': self.gamma * self.i}\n",
    "    lambda_val = rates['s_to_i'] + rates['i_to_r']\n",
    "    if lambda_val == 0:\n",
    "        return\n",
    "\n",
    "    tau = self.random_state.exponential(1.0/lambda_val)\n",
    "    prob_s_to_i = rates['s_to_i'] / lambda_val\n",
    "    if self.random_state.random_sample() < prob_s_to_i:\n",
    "        return (tau, TransitionMessage(StateTransitionType.s_to_i))\n",
    "    else:\n",
    "        return (tau, TransitionMessage(StateTransitionType.i_to_r))\n",
    "\n",
    "# Add this method to SIR\n",
    "setattr(SIR, 'plan_next_transition', plan_next_transition)"
   ]
  },
  {
   "cell_type": "markdown",
   "metadata": {},
   "source": [
    "## Simulation objects\n",
    "\n",
    "Next we create and schedule events, and receive and execute them -- steps 1 and 4 in the iteration loop in the Overview.\n",
    "\n",
    "We'll use `DE-Sim`'s features by subclassing [`SimulationObject`](https://docs.karrlab.org/de_sim/master/source/de_sim.html#de_sim.simulation_object.SimulationObject), and obtain SIR logic by composing a `SIR` instance."
   ]
  },
  {
   "cell_type": "code",
   "execution_count": 7,
   "metadata": {},
   "outputs": [],
   "source": [
    "class SIRSimulator(de_sim.SimulationObject):\n",
    "\n",
    "    def __init__(self, name, s, i, N, beta, gamma):\n",
    "        self.sir = SIR(s, i, N, beta, gamma)\n",
    "        super().__init__(name)\n",
    "\n",
    "    def handle_event(self, event):\n",
    "        \"\"\" Handle an event.\n",
    "\n",
    "        Args:\n",
    "            event (`de_sim.Event`): simulation event that contains an event message\n",
    "        \"\"\"\n",
    "        self.sir.handle_state_transition(event.message.transition_type)\n",
    "        self.plan_and_create_event()\n",
    "\n",
    "    def plan_and_create_event(self):\n",
    "        \" Plan and create the next event. \"\n",
    "        planned_event = self.sir.plan_next_transition()\n",
    "        if planned_event is not None:\n",
    "            self.schedule_next_event(planned_event)\n",
    "\n",
    "    def schedule_next_event(self, planned_event):\n",
    "        tau, transition_message = planned_event\n",
    "        self.send_event(tau, self, transition_message)\n",
    "\n",
    "    def init_before_run(self):\n",
    "        \" Initialize before a simulation run. Send the first event. \"\n",
    "        self.plan_and_create_event()\n",
    "\n",
    "    event_handlers = [(TransitionMessage, 'handle_event')]\n",
    "\n",
    "    # register the message types sent\n",
    "    messages_sent = [TransitionMessage]"
   ]
  },
  {
   "cell_type": "markdown",
   "metadata": {},
   "source": [
    "`SIRSimulator` completes the functionality of an iteration. Referencing the steps in the Overview, we explain how it works:\n",
    "\n",
    "1. *receive an event*: `handle_event` is called by DE Sim's simulator when `SIRSimulator` receives an event. It's an upcall by the simulator which is reported to the simulator by the attribute `event_handlers`, which associates each [`EventMessage`](https://docs.karrlab.org/de_sim/master/source/de_sim.html#de_sim.event_message.EventMessage) subclass with the method that handles events containing the class.\n",
    "2. *execute the transition encoded in the event message*: `SIR`'s `handle_state_transition` method does this.\n",
    "3. *plan the next transition*: `plan_and_create_event` uses `SIR.plan_next_transition()` to do  this.\n",
    "4. *schedule the next event*: `schedule_next_event` uses the delay and event message of a planned event, and the method `send_event` provided by `SimulationObject` to schedule the new event `tau` days in the future.\n",
    "\n",
    "`init_before_run` is an optional special method which `SimulationObject`s can use for initialization.\n",
    "Just before a simulation starts, the simulator calls all `init_before_run` methods.\n",
    "Here, it sends the first event."
   ]
  },
  {
   "cell_type": "markdown",
   "metadata": {},
   "source": [
    "## Checkpointing\n",
    "\n",
    "Checkpointing periodically saves a simulation's state so that its history is available for analysis later.\n",
    "A simulation's state is conceptualized as a set of values, and the state of its random number generator.\n",
    "A checkpointing object, an instance of DE-Sim's `CheckpointSimulationObject`, will periodically checkpoint the simulation's state.\n",
    "It must be given an object that complies with the interface defined in `AccessStateObjectInterface`, which implements methods that return the simulation's state (`get_checkpoint_state`) and random number generator state (`get_random_state`), as shown in `AccessSIRObjectState` below."
   ]
  },
  {
   "cell_type": "code",
   "execution_count": 8,
   "metadata": {},
   "outputs": [],
   "source": [
    "from de_sim.checkpoint import AccessCheckpoints, Checkpoint\n",
    "from de_sim.simulation_checkpoint_object import (AccessStateObjectInterface,\n",
    "                                                 CheckpointSimulationObject)\n",
    "\n",
    "class AccessSIRObjectState(AccessStateObjectInterface):\n",
    "    \"\"\" Get the state of a SIR object\n",
    "\n",
    "    Attributes:\n",
    "        sir (`obj`): a SIR object\n",
    "        random_state (`numpy.random.RandomState`): a random state\n",
    "    \"\"\"\n",
    "    def __init__(self, sir):\n",
    "        self.sir = sir\n",
    "        self.random_state = sir.random_state\n",
    "\n",
    "    def get_checkpoint_state(self, time):\n",
    "        \"\"\" Get the SIR simulation's state\n",
    "\n",
    "        Args:\n",
    "            time (`float`): current time; ignored\n",
    "        \"\"\"\n",
    "        return dict(s=self.sir.s,\n",
    "                    i=self.sir.i)\n",
    "\n",
    "    def get_random_state(self):\n",
    "        \"\"\" Get the SIR object's random state\n",
    "        \"\"\"\n",
    "        return self.random_state.get_state()"
   ]
  },
  {
   "cell_type": "markdown",
   "metadata": {},
   "source": [
    "## Running a simulation\n",
    "\n",
    "The next cell defines code to run the SIR model and visualize its predictions.\n",
    "An instance of `CheckpointSimulationObject` is added to the simulation. It needs a name, its checkpointing period, a directory in which to save checkpoints, and an object that can access the simulation's state, like `AccessSIRObjectState` above.\n",
    "The `AccessCheckpoints` class obtains checkpoint data from the directory storing them."
   ]
  },
  {
   "cell_type": "code",
   "execution_count": 9,
   "metadata": {},
   "outputs": [],
   "source": [
    "import pandas\n",
    "\n",
    "class RunSIR(object):\n",
    "\n",
    "    def __init__(self, checkpoint_dir):\n",
    "        self.checkpoint_dir = checkpoint_dir\n",
    "\n",
    "    def simulate(self, recording_period, max_time, **sir_args):\n",
    "        \"\"\" Create and run a SIR simulation\n",
    "\n",
    "        Args:\n",
    "            recording_period (`float`): interval between state checkpoints\n",
    "            max_time (`float`): simulation end time\n",
    "            sir_args (`dict`): arguments for a SIR object\n",
    "        \"\"\"\n",
    "        # create a simulator\n",
    "        simulator = de_sim.Simulator()\n",
    "\n",
    "        # create a SIRSimulator instance\n",
    "        self.sir_simulator = SIRSimulator(**sir_args)\n",
    "        simulator.add_object(self.sir_simulator)\n",
    "\n",
    "        # create a checkpoint simulation object\n",
    "        access_state_object = AccessSIRObjectState(self.sir_simulator.sir)\n",
    "        checkpointing_obj = CheckpointSimulationObject('checkpointing_obj',\n",
    "                                                       recording_period,\n",
    "                                                       self.checkpoint_dir,\n",
    "                                                       access_state_object)\n",
    "        simulator.add_object(checkpointing_obj)\n",
    "\n",
    "        # initialize simulation, which sends the SIR instance an initial event message\n",
    "        simulator.initialize()\n",
    "\n",
    "        # run the simulation\n",
    "        event_num = simulator.simulate(max_time).num_events\n",
    "\n",
    "    def last_checkpoint(self):\n",
    "        \"\"\" Get the last checkpoint of the last simulation run\n",
    "\n",
    "        Returns:\n",
    "            `Checkpoint`: the last checkpoint of the last simulation run\n",
    "        \"\"\"\n",
    "        access_checkpoints = AccessCheckpoints(self.checkpoint_dir)\n",
    "        last_checkpoint_time = access_checkpoints.list_checkpoints()[-1]\n",
    "        return access_checkpoints.get_checkpoint(time=last_checkpoint_time)\n",
    "\n",
    "    def history_to_dataframe(self):\n",
    "        \"\"\" Convert the checkpoint history to a Pandas dataframe\n",
    "\n",
    "        Returns:\n",
    "            `pandas.DataFrame`: SIR values are columns, rows are timepoints\n",
    "        \"\"\"\n",
    "        fields = ('s', 'i', 'r')\n",
    "        hist = []\n",
    "        index = []\n",
    "        access_checkpoints = AccessCheckpoints(self.checkpoint_dir)\n",
    "        for checkpoint_time in access_checkpoints.list_checkpoints():\n",
    "            state = access_checkpoints.get_checkpoint(time=checkpoint_time).state\n",
    "            state_as_list = [state['s'], state['i'],\n",
    "                             self.sir_simulator.sir.N - state['s'] - state['i']]\n",
    "            hist.append(dict(zip(fields, state_as_list)))\n",
    "            index.append(checkpoint_time)\n",
    "        return pandas.DataFrame(hist)"
   ]
  },
  {
   "cell_type": "markdown",
   "metadata": {},
   "source": [
    "Let's use the model to view an epidemic's predictions.\n",
    "We use parameters from Allen (2017), and print and plot the trajectory of a 4 simulation runs.\n",
    "Since the model is stochastic, each run produces a different trajectory."
   ]
  },
  {
   "cell_type": "code",
   "execution_count": 10,
   "metadata": {},
   "outputs": [
    {
     "data": {
      "image/png": "[encoded data removed]",
      "text/plain": [
       "<Figure size 432x288 with 1 Axes>"
      ]
     },
     "metadata": {
      "needs_background": "light"
     },
     "output_type": "display_data"
    },
    {
     "data": {
      "image/png": "[encoded data removed]",
      "text/plain": [
       "<Figure size 432x288 with 1 Axes>"
      ]
     },
     "metadata": {
      "needs_background": "light"
     },
     "output_type": "display_data"
    },
    {
     "data": {
      "image/png": "[encoded data removed]",
      "text/plain": [
       "<Figure size 432x288 with 1 Axes>"
      ]
     },
     "metadata": {
      "needs_background": "light"
     },
     "output_type": "display_data"
    },
    {
     "data": {
      "image/png": "[encoded data removed]",
      "text/plain": [
       "<Figure size 432x288 with 1 Axes>"
      ]
     },
     "metadata": {
      "needs_background": "light"
     },
     "output_type": "display_data"
    }
   ],
   "source": [
    "import tempfile\n",
    "\n",
    "sir_args = dict(name='sir',\n",
    "                s=98,\n",
    "                i=2,\n",
    "                N=100,\n",
    "                beta=0.3,\n",
    "                gamma=0.15)\n",
    "with tempfile.TemporaryDirectory() as tmpdirname:\n",
    "    for _ in range(4):\n",
    "        run_sir = RunSIR(tmpdirname)\n",
    "        run_sir.simulate(10, 100, **sir_args)\n",
    "\n",
    "        # print and plot an epidemic's predicted trajectory\n",
    "        sir_data_frame = run_sir.history_to_dataframe()\n",
    "        axes = sir_data_frame.plot()\n",
    "        axes.set_xlabel(\"Time\")\n",
    "        rv = axes.set_ylabel(\"Population\")"
   ]
  },
  {
   "cell_type": "markdown",
   "metadata": {},
   "source": [
    "## Evaluate an epidemic's severity\n",
    "An important prediction generated by the SIR model is the severity of the epidemic, which can be summarized by the fraction of people who became infected. We run an ensemble of simulations and examine the predicted distribution of severity."
   ]
  },
  {
   "cell_type": "code",
   "execution_count": 11,
   "metadata": {},
   "outputs": [
    {
     "data": {
      "image/png": "[encoded data removed]",
      "text/plain": [
       "<Figure size 432x288 with 1 Axes>"
      ]
     },
     "metadata": {
      "needs_background": "light"
     },
     "output_type": "display_data"
    }
   ],
   "source": [
    "import math\n",
    "\n",
    "num_sims = 100\n",
    "infection_rates= []\n",
    "\n",
    "for _ in range(num_sims):\n",
    "    with tempfile.TemporaryDirectory() as tmpdirname:\n",
    "        run_sirs = RunSIR(tmpdirname)\n",
    "        run_sirs.simulate(recording_period=10, max_time=60, **sir_args)\n",
    "        # infection rate = infectious + recovered\n",
    "        # N = s + i + r => i + r = N - s\n",
    "        final_state = run_sirs.last_checkpoint().state\n",
    "        N = sir_args['N']\n",
    "        infection_rate = (N - final_state['s'])/N\n",
    "        infection_rates.append(infection_rate)\n",
    "\n",
    "import matplotlib.pyplot as plt\n",
    "fig = plt.figure()\n",
    "ax = fig.add_subplot(111)\n",
    "rv = plt.hist(infection_rates)\n",
    "ax.set_title('Infection rate distribution')\n",
    "ax.set_xlabel('Infection rate')\n",
    "rv = ax.set_ylabel('Frequency')"
   ]
  },
  {
   "cell_type": "markdown",
   "metadata": {},
   "source": [
    "As predicted by Allen's (2017) analysis, for the parameters in `sir_args` the infection rate distribution is bimodal. Most of the epidemics infect a majority of the population while a small fraction of them (Allen predicts 25%) burn out and infect only a minority of the population.\n",
    "\n",
    "The simple model above only touches the surface of epidemic modeling. Many extensions are possible:\n",
    "\n",
    "* A spatial model with multiple geographic areas: each area would be represented by an instance of SIR.\n",
    "* An extension of the spatial model that also represents travel between geographic areas.\n",
    "* A model that represents individuals in more states, such as multiple infectious states which distinguish between asymptomatic and symptomatic individuals, with a lower transmission parameter β for symptomatic individuals who would likely isolate while recovering.\n",
    "* A model that can model both small and large populations: it would use the stochastic approach above to integrate small populations and ODEs to integrate large populations. Models and simulators that use multiple integration methods are called multi-algorithmic.\n",
    "\n",
    "We encourage you to experiment with different parameters for this model and build your own models!"
   ]
  },
  {
   "cell_type": "markdown",
   "metadata": {},
   "source": [
    "## Conclusion\n",
    "\n",
    "We've shown a complete DE-Sim simulation of a SIR epidemic model.\n",
    "For pedagogical purposes we broke the code into many pieces. A real implementation should be made more consise by combining the classes `SIR` and `SIRSimulator`.\n",
    "\n",
    "Other discrete-event models can be written in DE-Sim by following the same recipie:\n",
    "\n",
    "- Define one or more [`SimulationObject`](https://docs.karrlab.org/de_sim/master/source/de_sim.html#de_sim.simulation_object.SimulationObject) classes that store state, and schedule events for themselves and/or each other.\n",
    "- Create a [`Simulator`](https://docs.karrlab.org/de_sim/master/source/de_sim.html#de_sim.simulator.Simulator).\n",
    "- Create initial conditions and instantiate one or more instances of each `SimulationObject` class to stimulate the model.\n",
    "- Add a checkpointing class to save each run's trajectory.\n",
    "- Visualize and analyze a set of simulation runs.\n",
    "\n",
    "Happy modeling!"
   ]
  },
  {
   "cell_type": "markdown",
   "metadata": {},
   "source": [
    "## References\n",
    "\n",
    "Allen, L.J., 2017. A primer on stochastic epidemic models: Formulation, numerical\n",
    "simulation, and analysis. Infectious Disease Modelling, 2(2), pp.128-142."
   ]
  }
 ],
 "metadata": {
  "kernelspec": {
   "display_name": "Python 3",
   "language": "python",
   "name": "python3"
  },
  "language_info": {
   "codemirror_mode": {
    "name": "ipython",
    "version": 3
   },
   "file_extension": ".py",
   "mimetype": "text/x-python",
   "name": "python",
   "nbconvert_exporter": "python",
   "pygments_lexer": "ipython3",
   "version": "3.7.6"
  },
  "toc": {
   "base_numbering": 1,
   "nav_menu": {},
   "number_sections": false,
   "sideBar": true,
   "skip_h1_title": false,
   "title_cell": "Table of Contents",
   "title_sidebar": "Contents",
   "toc_cell": false,
   "toc_position": {
    "height": "calc(100% - 180px)",
    "left": "10px",
    "top": "150px",
    "width": "165px"
   },
   "toc_section_display": true,
   "toc_window_display": false
  },
  "varInspector": {
   "cols": {
    "lenName": 16,
    "lenType": 16,
    "lenVar": 40
   },
   "kernels_config": {
    "python": {
     "delete_cmd_postfix": "",
     "delete_cmd_prefix": "del ",
     "library": "var_list.py",
     "varRefreshCmd": "print(var_dic_list())"
    },
    "r": {
     "delete_cmd_postfix": ") ",
     "delete_cmd_prefix": "rm(",
     "library": "var_list.r",
     "varRefreshCmd": "cat(var_dic_list()) "
    }
   },
   "types_to_exclude": [
    "module",
    "function",
    "builtin_function_or_method",
    "instance",
    "_Feature"
   ],
   "window_display": false
  }
 },
 "nbformat": 4,
 "nbformat_minor": 4
}
