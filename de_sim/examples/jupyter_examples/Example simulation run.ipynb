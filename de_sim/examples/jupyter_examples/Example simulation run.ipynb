{
 "cells": [
  {
   "cell_type": "markdown",
   "metadata": {},
   "source": [
    "## Simulate a wc_lang model with wc_sim"
   ]
  },
  {
   "cell_type": "markdown",
   "metadata": {},
   "source": [
    "### setup Python environment"
   ]
  },
  {
   "cell_type": "code",
   "execution_count": 1,
   "metadata": {},
   "outputs": [],
   "source": [
    "import os\n",
    "import tempfile\n",
    "\n",
    "import matplotlib.pyplot as plt\n",
    "# allow embedded plots in the notebook\n",
    "%matplotlib inline"
   ]
  },
  {
   "cell_type": "markdown",
   "metadata": {},
   "source": [
    "### import Simulation and RunResults"
   ]
  },
  {
   "cell_type": "code",
   "execution_count": 2,
   "metadata": {},
   "outputs": [],
   "source": [
    "from wc_sim.multialgorithm.simulation import Simulation\n",
    "from wc_sim.multialgorithm.run_results import RunResults"
   ]
  },
  {
   "cell_type": "markdown",
   "metadata": {},
   "source": [
    "### select a toy model "
   ]
  },
  {
   "cell_type": "code",
   "execution_count": 3,
   "metadata": {},
   "outputs": [],
   "source": [
    "steady_rate_model_filename = os.path.join(os.getcwd(), '../../tests/multialgorithm/fixtures',\n",
    "                                              '2_species_1_reaction.xlsx')\n",
    "reactant_rate_model_filename = os.path.join(os.getcwd(), '../../tests/multialgorithm/fixtures',\n",
    "                              '2_species_1_reaction_with_rates_given_by_reactant_population.xlsx')"
   ]
  },
  {
   "cell_type": "markdown",
   "metadata": {},
   "source": [
    "### create and run simulation"
   ]
  },
  {
   "cell_type": "code",
   "execution_count": 4,
   "metadata": {},
   "outputs": [
    {
     "name": "stdout",
     "output_type": "stream",
     "text": [
      "Simulated 1652 events\n",
      "Saved checkpoints and run results in '/tmp/tmp1i5hj5xg/2018-05-28-17-25-24'\n"
     ]
    },
    {
     "name": "stderr",
     "output_type": "stream",
     "text": [
      "/usr/local/lib/python3.6/site-packages/pandas/core/generic.py:1471 \u001b[1;31mPerformanceWarning\u001b[0m: \n",
      "your performance may suffer as PyTables will pickle object types that it cannot\n",
      "map directly to c-types [inferred_type->bytes,key->values] [items->None]\n",
      "\n",
      "/usr/local/lib/python3.6/site-packages/pandas/core/generic.py:1471 \u001b[1;31mPerformanceWarning\u001b[0m: \n",
      "your performance may suffer as PyTables will pickle object types that it cannot\n",
      "map directly to c-types [inferred_type->mixed,key->values] [items->None]\n",
      "\n"
     ]
    }
   ],
   "source": [
    "results_dir = tempfile.mkdtemp()\n",
    "simulation = Simulation(reactant_rate_model_filename)\n",
    "num_events, results_dir = simulation.run(end_time=100, results_dir=results_dir, checkpoint_period=10)\n",
    "run_results = RunResults(results_dir)"
   ]
  },
  {
   "cell_type": "code",
   "execution_count": 5,
   "metadata": {},
   "outputs": [
    {
     "name": "stdout",
     "output_type": "stream",
     "text": [
      "RunResults contains: {'random_states', 'aggregate_states', 'metadata', 'populations'}\n",
      "       spec_type_1[c]  spec_type_0[c]\n",
      "0.0               0.0          2000.0\n",
      "10.0            300.0          1700.0\n",
      "20.0            555.0          1445.0\n",
      "30.0            788.0          1212.0\n",
      "40.0            956.0          1044.0\n",
      "50.0           1115.0           885.0\n",
      "60.0           1269.0           731.0\n",
      "70.0           1383.0           617.0\n",
      "80.0           1482.0           518.0\n",
      "90.0           1572.0           428.0\n",
      "100.0          1642.0           358.0\n",
      "compartment              c                            \n",
      "property              name          mass        volume\n",
      "0.0          compartment c  3.321078e-20  1.000000e-22\n",
      "10.0         compartment c  3.321078e-20  1.000000e-22\n",
      "20.0         compartment c  3.321078e-20  1.000000e-22\n",
      "30.0         compartment c  3.321078e-20  1.000000e-22\n",
      "40.0         compartment c  3.321078e-20  1.000000e-22\n",
      "50.0         compartment c  3.321078e-20  1.000000e-22\n",
      "60.0         compartment c  3.321078e-20  1.000000e-22\n",
      "70.0         compartment c  3.321078e-20  1.000000e-22\n",
      "80.0         compartment c  3.321078e-20  1.000000e-22\n",
      "90.0         compartment c  3.321078e-20  1.000000e-22\n",
      "100.0        compartment c  3.321078e-20  1.000000e-22\n",
      "author        {'name': 'Unknown name', 'email': 'Unknown ema...\n",
      "model         {'url': 'https://github.com/KarrLab/wc_sim.git...\n",
      "run           {'start_time': 2018-05-28 17:25:24.951885, 'ru...\n",
      "simulation    {'time_init': 0.0, 'time_max': 100.0, 'time_st...\n",
      "dtype: object\n"
     ]
    }
   ],
   "source": [
    "print('RunResults contains:', RunResults.COMPONENTS)\n",
    "for component in ['populations', 'aggregate_states', 'metadata']:\n",
    "    print(run_results.get(component))"
   ]
  },
  {
   "cell_type": "code",
   "execution_count": 6,
   "metadata": {},
   "outputs": [
    {
     "data": {
      "image/png": "[encoded data removed]",
      "text/plain": [
       "<Figure size 432x288 with 1 Axes>"
      ]
     },
     "metadata": {},
     "output_type": "display_data"
    }
   ],
   "source": [
    "axes = run_results.get('populations').plot()"
   ]
  }
 ],
 "metadata": {
  "kernelspec": {
   "display_name": "Python 3",
   "language": "python",
   "name": "python3"
  },
  "language_info": {
   "codemirror_mode": {
    "name": "ipython",
    "version": 3
   },
   "file_extension": ".py",
   "mimetype": "text/x-python",
   "name": "python",
   "nbconvert_exporter": "python",
   "pygments_lexer": "ipython3",
   "version": "3.6.4"
  }
 },
 "nbformat": 4,
 "nbformat_minor": 2
}
