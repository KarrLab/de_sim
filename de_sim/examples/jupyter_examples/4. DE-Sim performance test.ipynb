{
 "cells": [
  {
   "attachments": {},
   "cell_type": "markdown",
   "metadata": {},
   "source": [
    "# DE-Sim performance test\n",
    "\n",
    "This notebook conducts a performance of DE-Sim simulating a model of a cyclic messaging network over a range of network sizes."
   ]
  },
  {
   "cell_type": "code",
   "execution_count": 1,
   "metadata": {
    "scrolled": false
   },
   "outputs": [
    {
     "name": "stdout",
     "output_type": "stream",
     "text": [
      "Requirement already satisfied: de_sim in /root/.wc/wc_sandbox/packages/de_sim (0.0.7)\n",
      "Requirement already satisfied: logging2 in /usr/local/lib/python3.7/site-packages (0.1.2)\n",
      "Requirement already satisfied: configobj in /usr/local/lib/python3.7/site-packages (from de_sim) (5.0.6)\n",
      "Requirement already satisfied: matplotlib in /usr/local/lib/python3.7/site-packages (from de_sim) (3.1.2)\n",
      "Requirement already satisfied: numpy in /usr/local/lib/python3.7/site-packages (from de_sim) (1.18.1)\n",
      "Requirement already satisfied: progressbar2>=3.39 in /usr/local/lib/python3.7/site-packages (from de_sim) (3.47.0)\n",
      "Requirement already satisfied: pympler in /usr/local/lib/python3.7/site-packages (from de_sim) (0.8)\n",
      "Requirement already satisfied: setuptools in /usr/local/lib/python3.7/site-packages (from de_sim) (44.0.0)\n",
      "Requirement already satisfied: wc_utils[git]>=0.0.16 in /root/.wc/wc_sandbox/packages/wc_utils (from de_sim) (0.0.21)\n",
      "Requirement already satisfied: six in /usr/local/lib/python3.7/site-packages/six-1.12.0-py3.7.egg (from configobj->de_sim) (1.12.0)\n",
      "Requirement already satisfied: kiwisolver>=1.0.1 in /usr/local/lib/python3.7/site-packages (from matplotlib->de_sim) (1.1.0)\n",
      "Requirement already satisfied: cycler>=0.10 in /usr/local/lib/python3.7/site-packages (from matplotlib->de_sim) (0.10.0)\n",
      "Requirement already satisfied: python-dateutil>=2.1 in /usr/local/lib/python3.7/site-packages (from matplotlib->de_sim) (2.8.1)\n",
      "Requirement already satisfied: pyparsing!=2.0.4,!=2.1.2,!=2.1.6,>=2.0.1 in /usr/local/lib/python3.7/site-packages (from matplotlib->de_sim) (2.4.6)\n",
      "Requirement already satisfied: python-utils>=2.3.0 in /usr/local/lib/python3.7/site-packages (from progressbar2>=3.39->de_sim) (2.3.0)\n",
      "Requirement already satisfied: abduct in /usr/local/lib/python3.7/site-packages (from wc_utils[git]>=0.0.16->de_sim) (2.0.1)\n",
      "Requirement already satisfied: attrdict in /usr/local/lib/python3.7/site-packages (from wc_utils[git]>=0.0.16->de_sim) (2.0.1)\n",
      "Requirement already satisfied: dataclasses in /usr/local/lib/python3.7/site-packages (from wc_utils[git]>=0.0.16->de_sim) (0.6)\n",
      "Requirement already satisfied: diskcache in /usr/local/lib/python3.7/site-packages (from wc_utils[git]>=0.0.16->de_sim) (4.1.0)\n",
      "Requirement already satisfied: humanfriendly in /usr/local/lib/python3.7/site-packages (from wc_utils[git]>=0.0.16->de_sim) (4.18)\n",
      "Requirement already satisfied: mendeleev in /usr/local/lib/python3.7/site-packages (from wc_utils[git]>=0.0.16->de_sim) (0.5.1)\n",
      "Requirement already satisfied: natsort in /usr/local/lib/python3.7/site-packages (from wc_utils[git]>=0.0.16->de_sim) (6.2.0)\n",
      "Requirement already satisfied: objsize in /usr/local/lib/python3.7/site-packages (from wc_utils[git]>=0.0.16->de_sim) (0.3.2)\n",
      "Requirement already satisfied: openpyxl<=3.0.1,>=2.6.1 in /usr/local/lib/python3.7/site-packages (from wc_utils[git]>=0.0.16->de_sim) (3.0.1)\n",
      "Requirement already satisfied: pint>=0.10 in /usr/local/lib/python3.7/site-packages (from wc_utils[git]>=0.0.16->de_sim) (0.10)\n",
      "Requirement already satisfied: pronto>=1 in /usr/local/lib/python3.7/site-packages (from wc_utils[git]>=0.0.16->de_sim) (1.1.3)\n",
      "Requirement already satisfied: pyexcel>=0.5.9.1 in /usr/local/lib/python3.7/site-packages (from wc_utils[git]>=0.0.16->de_sim) (0.5.15)\n",
      "Requirement already satisfied: pyexcel_io>=0.5.9.1 in /usr/local/lib/python3.7/site-packages (from wc_utils[git]>=0.0.16->de_sim) (0.5.20)\n",
      "Requirement already satisfied: pyyaml>=5.1 in /usr/local/lib/python3.7/site-packages (from wc_utils[git]>=0.0.16->de_sim) (5.3)\n",
      "Requirement already satisfied: qualname in /usr/local/lib/python3.7/site-packages (from wc_utils[git]>=0.0.16->de_sim) (0.1.0)\n",
      "Requirement already satisfied: requests in /usr/local/lib/python3.7/site-packages/requests-2.22.0-py3.7.egg (from wc_utils[git]>=0.0.16->de_sim) (2.22.0)\n",
      "Requirement already satisfied: xlsxwriter in /usr/local/lib/python3.7/site-packages (from wc_utils[git]>=0.0.16->de_sim) (1.2.7)\n",
      "Requirement already satisfied: gitpython in /usr/local/lib/python3.7/site-packages (from wc_utils[git]>=0.0.16->de_sim) (3.0.5)\n",
      "Requirement already satisfied: pygithub in /usr/local/lib/python3.7/site-packages (from wc_utils[git]>=0.0.16->de_sim) (1.45)\n",
      "Requirement already satisfied: contextlib2 in /usr/local/lib/python3.7/site-packages (from abduct->wc_utils[git]>=0.0.16->de_sim) (0.6.0.post1)\n",
      "Requirement already satisfied: pyfiglet in /usr/local/lib/python3.7/site-packages (from mendeleev->wc_utils[git]>=0.0.16->de_sim) (0.8.post1)\n",
      "Requirement already satisfied: sqlalchemy in /usr/local/lib/python3.7/site-packages (from mendeleev->wc_utils[git]>=0.0.16->de_sim) (1.3.12)\n",
      "Requirement already satisfied: pandas in /usr/local/lib/python3.7/site-packages (from mendeleev->wc_utils[git]>=0.0.16->de_sim) (0.25.3)\n",
      "Requirement already satisfied: colorama in /usr/local/lib/python3.7/site-packages (from mendeleev->wc_utils[git]>=0.0.16->de_sim) (0.4.3)\n",
      "Requirement already satisfied: et-xmlfile in /usr/local/lib/python3.7/site-packages (from openpyxl<=3.0.1,>=2.6.1->wc_utils[git]>=0.0.16->de_sim) (1.0.1)\n",
      "Requirement already satisfied: jdcal in /usr/local/lib/python3.7/site-packages (from openpyxl<=3.0.1,>=2.6.1->wc_utils[git]>=0.0.16->de_sim) (1.4.1)\n",
      "Requirement already satisfied: chardet~=3.0 in /usr/local/lib/python3.7/site-packages/chardet-3.0.4-py3.7.egg (from pronto>=1->wc_utils[git]>=0.0.16->de_sim) (3.0.4)\n",
      "Requirement already satisfied: contexter~=0.1.4 in /usr/local/lib/python3.7/site-packages (from pronto>=1->wc_utils[git]>=0.0.16->de_sim) (0.1.4)\n",
      "Requirement already satisfied: networkx~=2.3 in /usr/local/lib/python3.7/site-packages (from pronto>=1->wc_utils[git]>=0.0.16->de_sim) (2.4)\n",
      "Requirement already satisfied: frozendict~=1.2 in /usr/local/lib/python3.7/site-packages (from pronto>=1->wc_utils[git]>=0.0.16->de_sim) (1.2)\n",
      "Requirement already satisfied: nanoset~=0.1.2; platform_python_implementation == \"CPython\" in /usr/local/lib/python3.7/site-packages (from pronto>=1->wc_utils[git]>=0.0.16->de_sim) (0.1.3)\n",
      "Requirement already satisfied: fastobo~=0.6.0 in /usr/local/lib/python3.7/site-packages (from pronto>=1->wc_utils[git]>=0.0.16->de_sim) (0.6.1)\n",
      "Requirement already satisfied: lml>=0.0.4 in /usr/local/lib/python3.7/site-packages (from pyexcel>=0.5.9.1->wc_utils[git]>=0.0.16->de_sim) (0.0.9)\n",
      "Requirement already satisfied: texttable>=0.8.2 in /usr/local/lib/python3.7/site-packages (from pyexcel>=0.5.9.1->wc_utils[git]>=0.0.16->de_sim) (1.6.2)\n",
      "Requirement already satisfied: idna<2.9,>=2.5 in /usr/local/lib/python3.7/site-packages/idna-2.8-py3.7.egg (from requests->wc_utils[git]>=0.0.16->de_sim) (2.8)\n",
      "Requirement already satisfied: urllib3!=1.25.0,!=1.25.1,<1.26,>=1.21.1 in /usr/local/lib/python3.7/site-packages (from requests->wc_utils[git]>=0.0.16->de_sim) (1.24.2)\n",
      "Requirement already satisfied: certifi>=2017.4.17 in /usr/local/lib/python3.7/site-packages/certifi-2019.9.11-py3.7.egg (from requests->wc_utils[git]>=0.0.16->de_sim) (2019.9.11)\n",
      "Requirement already satisfied: gitdb2>=2.0.0 in /usr/local/lib/python3.7/site-packages (from gitpython->wc_utils[git]>=0.0.16->de_sim) (2.0.6)\n",
      "Requirement already satisfied: pyjwt in /usr/local/lib/python3.7/site-packages (from pygithub->wc_utils[git]>=0.0.16->de_sim) (1.7.1)\n",
      "Requirement already satisfied: deprecated in /usr/local/lib/python3.7/site-packages (from pygithub->wc_utils[git]>=0.0.16->de_sim) (1.2.7)\n",
      "Requirement already satisfied: pytz>=2017.2 in /usr/local/lib/python3.7/site-packages (from pandas->mendeleev->wc_utils[git]>=0.0.16->de_sim) (2019.3)\n",
      "Requirement already satisfied: decorator>=4.3.0 in /usr/local/lib/python3.7/site-packages (from networkx~=2.3->pronto>=1->wc_utils[git]>=0.0.16->de_sim) (4.4.1)\n",
      "Requirement already satisfied: smmap2>=2.0.0 in /usr/local/lib/python3.7/site-packages (from gitdb2>=2.0.0->gitpython->wc_utils[git]>=0.0.16->de_sim) (2.0.5)\n",
      "Requirement already satisfied: wrapt<2,>=1.10 in /usr/local/lib/python3.7/site-packages (from deprecated->pygithub->wc_utils[git]>=0.0.16->de_sim) (1.11.2)\n",
      "\u001b[31mERROR: Error while checking for conflicts. Please file an issue on pip's issue tracker: https://github.com/pypa/pip/issues/new\n",
      "Traceback (most recent call last):\n",
      "  File \"/usr/local/lib/python3.7/site-packages/pip/_vendor/pkg_resources/__init__.py\", line 3021, in _dep_map\n",
      "    return self.__dep_map\n",
      "  File \"/usr/local/lib/python3.7/site-packages/pip/_vendor/pkg_resources/__init__.py\", line 2815, in __getattr__\n",
      "    raise AttributeError(attr)\n",
      "AttributeError: _DistInfoDistribution__dep_map\n",
      "\n",
      "During handling of the above exception, another exception occurred:\n",
      "\n",
      "Traceback (most recent call last):\n",
      "  File \"/usr/local/lib/python3.7/site-packages/pip/_vendor/pkg_resources/__init__.py\", line 3012, in _parsed_pkg_info\n",
      "    return self._pkg_info\n",
      "  File \"/usr/local/lib/python3.7/site-packages/pip/_vendor/pkg_resources/__init__.py\", line 2815, in __getattr__\n",
      "    raise AttributeError(attr)\n",
      "AttributeError: _pkg_info\n",
      "\n",
      "During handling of the above exception, another exception occurred:\n",
      "\n",
      "Traceback (most recent call last):\n",
      "  File \"/usr/local/lib/python3.7/site-packages/pip/_internal/commands/install.py\", line 535, in _determine_conflicts\n",
      "    return check_install_conflicts(to_install)\n",
      "  File \"/usr/local/lib/python3.7/site-packages/pip/_internal/operations/check.py\", line 108, in check_install_conflicts\n",
      "    package_set, _ = create_package_set_from_installed()\n",
      "  File \"/usr/local/lib/python3.7/site-packages/pip/_internal/operations/check.py\", line 50, in create_package_set_from_installed\n",
      "    package_set[name] = PackageDetails(dist.version, dist.requires())\n",
      "  File \"/usr/local/lib/python3.7/site-packages/pip/_vendor/pkg_resources/__init__.py\", line 2736, in requires\n",
      "    dm = self._dep_map\n",
      "  File \"/usr/local/lib/python3.7/site-packages/pip/_vendor/pkg_resources/__init__.py\", line 3023, in _dep_map\n",
      "    self.__dep_map = self._compute_dependencies()\n",
      "  File \"/usr/local/lib/python3.7/site-packages/pip/_vendor/pkg_resources/__init__.py\", line 3032, in _compute_dependencies\n",
      "    for req in self._parsed_pkg_info.get_all('Requires-Dist') or []:\n",
      "  File \"/usr/local/lib/python3.7/site-packages/pip/_vendor/pkg_resources/__init__.py\", line 3014, in _parsed_pkg_info\n",
      "    metadata = self.get_metadata(self.PKG_INFO)\n",
      "  File \"/usr/local/lib/python3.7/site-packages/pip/_vendor/pkg_resources/__init__.py\", line 1895, in get_metadata\n",
      "    raise KeyError(\"No metadata except PKG-INFO is available\")\n",
      "KeyError: 'No metadata except PKG-INFO is available'\u001b[0m\n"
     ]
    }
   ],
   "source": [
    "!pip install de_sim"
   ]
  },
  {
   "cell_type": "markdown",
   "metadata": {},
   "source": [
    "The cyclic messaging network model consists of a ring of simulation objects. Each simulation object executes an event at every time unit and schedules an event for the next object in the ring 1 time unit in the future. "
   ]
  },
  {
   "cell_type": "code",
   "execution_count": 13,
   "metadata": {},
   "outputs": [
    {
     "name": "stdout",
     "output_type": "stream",
     "text": [
      "\n",
      "Performance test of cyclical messaging network: end simulation time: 100\n",
      "\n",
      "#sim. obs     # events      runtime (s)  events/s\n",
      "        4         400             0.018      21657\n",
      "       16        1600             0.076      21088\n",
      "       64        6400             0.314      20354\n",
      "      256       25600             1.231      20792\n",
      "     1024      102400             5.105      20060\n",
      "     4096      409600            24.414      16777\n"
     ]
    }
   ],
   "source": [
    "# DE-Sim performance test\n",
    "import time\n",
    "\n",
    "import de_sim\n",
    "\n",
    "\n",
    "class InitMsg(de_sim.EventMessage):\n",
    "    'An InitMsg message'\n",
    "\n",
    "def obj_name(i):\n",
    "    return f'sim_obj_{i}'\n",
    "\n",
    "\n",
    "class CyclicalMessagesSimulationObject(de_sim.SimulationObject):\n",
    "    \"\"\" Send events around a cycle of objects \"\"\"\n",
    "\n",
    "    def __init__(self, name, obj_num, cycle_size):\n",
    "        super().__init__(name)\n",
    "        self.obj_num = obj_num\n",
    "        self.cycle_size = cycle_size\n",
    "\n",
    "    def next_obj(self):\n",
    "        next = (self.obj_num + 1) % self.cycle_size\n",
    "        return self.simulator.simulation_objects[obj_name(next)]\n",
    "\n",
    "    def send_next_event(self):\n",
    "        # send event to next CyclicalMessagesSimulationObject\n",
    "        self.send_event(1, self.next_obj(), InitMsg())\n",
    "\n",
    "    def init_before_run(self):\n",
    "        self.send_next_event()\n",
    "\n",
    "    def handle_event(self, event):\n",
    "        self.send_next_event()\n",
    "\n",
    "    event_handlers = [(InitMsg, 'handle_event')]\n",
    "\n",
    "    # register the message types sent\n",
    "    messages_sent = (InitMsg, )\n",
    "\n",
    "\n",
    "def make_cyclical_messaging_network_sim(simulator, num_objs):\n",
    "    # make a simulation with cyclical messaging network\n",
    "    sim_objects = [CyclicalMessagesSimulationObject(obj_name(i), i, num_objs)\n",
    "                   for i in range(num_objs)]\n",
    "    simulator.add_objects(sim_objects)\n",
    "\n",
    "def prep_simulation(simulator, num_sim_objs):\n",
    "    simulator.reset()\n",
    "    make_cyclical_messaging_network_sim(simulator, num_sim_objs)\n",
    "    simulator.initialize()\n",
    "\n",
    "def test_performance():\n",
    "    simulator = de_sim.Simulator()\n",
    "    end_sim_time = 100\n",
    "    num_sim_objs = 4\n",
    "    max_num_profile_objects = 300\n",
    "    max_num_sim_objs = 5000\n",
    "    print()\n",
    "    print(f\"Performance test of cyclical messaging network: \"\n",
    "          f\"end simulation time: {end_sim_time}\")\n",
    "    unprofiled_perf = [\"\\n#sim. obs\\t# events\\trun-time (s)\\tevents/s\".expandtabs(14)]\n",
    "\n",
    "    while num_sim_objs < max_num_sim_objs:\n",
    "\n",
    "        # measure execution time\n",
    "        prep_simulation(simulator, num_sim_objs)\n",
    "        start_time = time.process_time()\n",
    "        num_events = simulator.simulate(end_sim_time).num_events\n",
    "        run_time = time.process_time() - start_time\n",
    "        unprofiled_perf.append(f\"{num_sim_objs:>9}\\t{num_events:>7}\\t\"\n",
    "                               f\"{run_time:11.3f}\\t{num_events / run_time:8.0f}\".expandtabs(14))\n",
    "        num_sim_objs *= 4\n",
    "\n",
    "    print(\"\\n\".join(unprofiled_perf))\n",
    "\n",
    "test_performance()"
   ]
  },
  {
   "cell_type": "markdown",
   "metadata": {},
   "source": [
    "Each simulation run executes for 100 time units.\n",
    "The number of simulation objects in the ring is given by `#sim. obs`, and the number of simulation events executed by `# events`."
   ]
  }
 ],
 "metadata": {
  "kernelspec": {
   "display_name": "Python 3",
   "language": "python",
   "name": "python3"
  },
  "language_info": {
   "codemirror_mode": {
    "name": "ipython",
    "version": 3
   },
   "file_extension": ".py",
   "mimetype": "text/x-python",
   "name": "python",
   "nbconvert_exporter": "python",
   "pygments_lexer": "ipython3",
   "version": "3.7.6"
  },
  "toc": {
   "base_numbering": 1,
   "nav_menu": {},
   "number_sections": false,
   "sideBar": true,
   "skip_h1_title": false,
   "title_cell": "Table of Contents",
   "title_sidebar": "Contents",
   "toc_cell": false,
   "toc_position": {},
   "toc_section_display": true,
   "toc_window_display": false
  },
  "varInspector": {
   "cols": {
    "lenName": 16,
    "lenType": 16,
    "lenVar": 40
   },
   "kernels_config": {
    "python": {
     "delete_cmd_postfix": "",
     "delete_cmd_prefix": "del ",
     "library": "var_list.py",
     "varRefreshCmd": "print(var_dic_list())"
    },
    "r": {
     "delete_cmd_postfix": ") ",
     "delete_cmd_prefix": "rm(",
     "library": "var_list.r",
     "varRefreshCmd": "cat(var_dic_list()) "
    }
   },
   "types_to_exclude": [
    "module",
    "function",
    "builtin_function_or_method",
    "instance",
    "_Feature"
   ],
   "window_display": false
  }
 },
 "nbformat": 4,
 "nbformat_minor": 4
}
