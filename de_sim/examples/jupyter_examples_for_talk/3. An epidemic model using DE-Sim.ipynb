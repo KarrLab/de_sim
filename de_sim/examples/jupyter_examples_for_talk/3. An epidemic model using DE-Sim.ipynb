{
 "cells": [
  {
   "cell_type": "code",
   "execution_count": 1,
   "metadata": {},
   "outputs": [
    {
     "name": "stdout",
     "output_type": "stream",
     "text": [
      "Requirement already satisfied: de_sim in /root/.wc/wc_sandbox/packages/de_sim (0.0.7)\n",
      "Requirement already satisfied: configobj in /usr/local/lib/python3.7/site-packages (from de_sim) (5.0.6)\n",
      "Requirement already satisfied: logging2 in /usr/local/lib/python3.7/site-packages (from de_sim) (0.1.2)\n",
      "Requirement already satisfied: matplotlib in /usr/local/lib/python3.7/site-packages (from de_sim) (3.1.2)\n",
      "Requirement already satisfied: numpy in /usr/local/lib/python3.7/site-packages (from de_sim) (1.18.1)\n",
      "Requirement already satisfied: progressbar2>=3.39 in /usr/local/lib/python3.7/site-packages (from de_sim) (3.47.0)\n",
      "Requirement already satisfied: pympler in /usr/local/lib/python3.7/site-packages (from de_sim) (0.8)\n",
      "Requirement already satisfied: setuptools in /usr/local/lib/python3.7/site-packages (from de_sim) (44.0.0)\n",
      "Requirement already satisfied: wc_utils[git]>=0.0.16 in /root/.wc/wc_sandbox/packages/wc_utils (from de_sim) (0.0.21)\n",
      "Requirement already satisfied: six in /usr/local/lib/python3.7/site-packages/six-1.12.0-py3.7.egg (from configobj->de_sim) (1.12.0)\n",
      "Requirement already satisfied: cycler>=0.10 in /usr/local/lib/python3.7/site-packages (from matplotlib->de_sim) (0.10.0)\n",
      "Requirement already satisfied: kiwisolver>=1.0.1 in /usr/local/lib/python3.7/site-packages (from matplotlib->de_sim) (1.1.0)\n",
      "Requirement already satisfied: pyparsing!=2.0.4,!=2.1.2,!=2.1.6,>=2.0.1 in /usr/local/lib/python3.7/site-packages (from matplotlib->de_sim) (2.4.6)\n",
      "Requirement already satisfied: python-dateutil>=2.1 in /usr/local/lib/python3.7/site-packages (from matplotlib->de_sim) (2.8.1)\n",
      "Requirement already satisfied: python-utils>=2.3.0 in /usr/local/lib/python3.7/site-packages (from progressbar2>=3.39->de_sim) (2.3.0)\n",
      "Requirement already satisfied: abduct in /usr/local/lib/python3.7/site-packages (from wc_utils[git]>=0.0.16->de_sim) (2.0.1)\n",
      "Requirement already satisfied: attrdict in /usr/local/lib/python3.7/site-packages (from wc_utils[git]>=0.0.16->de_sim) (2.0.1)\n",
      "Requirement already satisfied: dataclasses in /usr/local/lib/python3.7/site-packages (from wc_utils[git]>=0.0.16->de_sim) (0.6)\n",
      "Requirement already satisfied: diskcache in /usr/local/lib/python3.7/site-packages (from wc_utils[git]>=0.0.16->de_sim) (4.1.0)\n",
      "Requirement already satisfied: humanfriendly in /usr/local/lib/python3.7/site-packages (from wc_utils[git]>=0.0.16->de_sim) (4.18)\n",
      "Requirement already satisfied: mendeleev in /usr/local/lib/python3.7/site-packages (from wc_utils[git]>=0.0.16->de_sim) (0.5.1)\n",
      "Requirement already satisfied: natsort in /usr/local/lib/python3.7/site-packages (from wc_utils[git]>=0.0.16->de_sim) (6.2.0)\n",
      "Requirement already satisfied: objsize in /usr/local/lib/python3.7/site-packages (from wc_utils[git]>=0.0.16->de_sim) (0.3.2)\n",
      "Requirement already satisfied: openpyxl<=3.0.1,>=2.6.1 in /usr/local/lib/python3.7/site-packages (from wc_utils[git]>=0.0.16->de_sim) (3.0.1)\n",
      "Requirement already satisfied: pint>=0.10 in /usr/local/lib/python3.7/site-packages (from wc_utils[git]>=0.0.16->de_sim) (0.10)\n",
      "Requirement already satisfied: pronto>=1 in /usr/local/lib/python3.7/site-packages (from wc_utils[git]>=0.0.16->de_sim) (1.1.3)\n",
      "Requirement already satisfied: pyexcel>=0.5.9.1 in /usr/local/lib/python3.7/site-packages (from wc_utils[git]>=0.0.16->de_sim) (0.5.15)\n",
      "Requirement already satisfied: pyexcel_io>=0.5.9.1 in /usr/local/lib/python3.7/site-packages (from wc_utils[git]>=0.0.16->de_sim) (0.5.20)\n",
      "Requirement already satisfied: pyyaml>=5.1 in /usr/local/lib/python3.7/site-packages (from wc_utils[git]>=0.0.16->de_sim) (5.3)\n",
      "Requirement already satisfied: qualname in /usr/local/lib/python3.7/site-packages (from wc_utils[git]>=0.0.16->de_sim) (0.1.0)\n",
      "Requirement already satisfied: requests in /usr/local/lib/python3.7/site-packages/requests-2.22.0-py3.7.egg (from wc_utils[git]>=0.0.16->de_sim) (2.22.0)\n",
      "Requirement already satisfied: xlsxwriter in /usr/local/lib/python3.7/site-packages (from wc_utils[git]>=0.0.16->de_sim) (1.2.7)\n",
      "Requirement already satisfied: gitpython in /usr/local/lib/python3.7/site-packages (from wc_utils[git]>=0.0.16->de_sim) (3.0.5)\n",
      "Requirement already satisfied: pygithub in /usr/local/lib/python3.7/site-packages (from wc_utils[git]>=0.0.16->de_sim) (1.45)\n",
      "Requirement already satisfied: contextlib2 in /usr/local/lib/python3.7/site-packages (from abduct->wc_utils[git]>=0.0.16->de_sim) (0.6.0.post1)\n",
      "Requirement already satisfied: sqlalchemy in /usr/local/lib/python3.7/site-packages (from mendeleev->wc_utils[git]>=0.0.16->de_sim) (1.3.12)\n",
      "Requirement already satisfied: colorama in /usr/local/lib/python3.7/site-packages (from mendeleev->wc_utils[git]>=0.0.16->de_sim) (0.4.3)\n",
      "Requirement already satisfied: pandas in /usr/local/lib/python3.7/site-packages (from mendeleev->wc_utils[git]>=0.0.16->de_sim) (0.25.3)\n",
      "Requirement already satisfied: pyfiglet in /usr/local/lib/python3.7/site-packages (from mendeleev->wc_utils[git]>=0.0.16->de_sim) (0.8.post1)\n",
      "Requirement already satisfied: jdcal in /usr/local/lib/python3.7/site-packages (from openpyxl<=3.0.1,>=2.6.1->wc_utils[git]>=0.0.16->de_sim) (1.4.1)\n",
      "Requirement already satisfied: et-xmlfile in /usr/local/lib/python3.7/site-packages (from openpyxl<=3.0.1,>=2.6.1->wc_utils[git]>=0.0.16->de_sim) (1.0.1)\n",
      "Requirement already satisfied: frozendict~=1.2 in /usr/local/lib/python3.7/site-packages (from pronto>=1->wc_utils[git]>=0.0.16->de_sim) (1.2)\n",
      "Requirement already satisfied: fastobo~=0.6.0 in /usr/local/lib/python3.7/site-packages (from pronto>=1->wc_utils[git]>=0.0.16->de_sim) (0.6.1)\n",
      "Requirement already satisfied: networkx~=2.3 in /usr/local/lib/python3.7/site-packages (from pronto>=1->wc_utils[git]>=0.0.16->de_sim) (2.4)\n",
      "Requirement already satisfied: chardet~=3.0 in /usr/local/lib/python3.7/site-packages/chardet-3.0.4-py3.7.egg (from pronto>=1->wc_utils[git]>=0.0.16->de_sim) (3.0.4)\n",
      "Requirement already satisfied: contexter~=0.1.4 in /usr/local/lib/python3.7/site-packages (from pronto>=1->wc_utils[git]>=0.0.16->de_sim) (0.1.4)\n",
      "Requirement already satisfied: nanoset~=0.1.2; platform_python_implementation == \"CPython\" in /usr/local/lib/python3.7/site-packages (from pronto>=1->wc_utils[git]>=0.0.16->de_sim) (0.1.3)\n",
      "Requirement already satisfied: texttable>=0.8.2 in /usr/local/lib/python3.7/site-packages (from pyexcel>=0.5.9.1->wc_utils[git]>=0.0.16->de_sim) (1.6.2)\n",
      "Requirement already satisfied: lml>=0.0.4 in /usr/local/lib/python3.7/site-packages (from pyexcel>=0.5.9.1->wc_utils[git]>=0.0.16->de_sim) (0.0.9)\n",
      "Requirement already satisfied: idna<2.9,>=2.5 in /usr/local/lib/python3.7/site-packages/idna-2.8-py3.7.egg (from requests->wc_utils[git]>=0.0.16->de_sim) (2.8)\n",
      "Requirement already satisfied: urllib3!=1.25.0,!=1.25.1,<1.26,>=1.21.1 in /usr/local/lib/python3.7/site-packages (from requests->wc_utils[git]>=0.0.16->de_sim) (1.24.2)\n",
      "Requirement already satisfied: certifi>=2017.4.17 in /usr/local/lib/python3.7/site-packages/certifi-2019.9.11-py3.7.egg (from requests->wc_utils[git]>=0.0.16->de_sim) (2019.9.11)\n",
      "Requirement already satisfied: gitdb2>=2.0.0 in /usr/local/lib/python3.7/site-packages (from gitpython->wc_utils[git]>=0.0.16->de_sim) (2.0.6)\n",
      "Requirement already satisfied: pyjwt in /usr/local/lib/python3.7/site-packages (from pygithub->wc_utils[git]>=0.0.16->de_sim) (1.7.1)\n",
      "Requirement already satisfied: deprecated in /usr/local/lib/python3.7/site-packages (from pygithub->wc_utils[git]>=0.0.16->de_sim) (1.2.7)\n",
      "Requirement already satisfied: pytz>=2017.2 in /usr/local/lib/python3.7/site-packages (from pandas->mendeleev->wc_utils[git]>=0.0.16->de_sim) (2019.3)\n",
      "Requirement already satisfied: decorator>=4.3.0 in /usr/local/lib/python3.7/site-packages (from networkx~=2.3->pronto>=1->wc_utils[git]>=0.0.16->de_sim) (4.4.1)\n",
      "Requirement already satisfied: smmap2>=2.0.0 in /usr/local/lib/python3.7/site-packages (from gitdb2>=2.0.0->gitpython->wc_utils[git]>=0.0.16->de_sim) (2.0.5)\n",
      "Requirement already satisfied: wrapt<2,>=1.10 in /usr/local/lib/python3.7/site-packages (from deprecated->pygithub->wc_utils[git]>=0.0.16->de_sim) (1.11.2)\n",
      "\u001b[31mERROR: Error while checking for conflicts. Please file an issue on pip's issue tracker: https://github.com/pypa/pip/issues/new\n",
      "Traceback (most recent call last):\n",
      "  File \"/usr/local/lib/python3.7/site-packages/pip/_vendor/pkg_resources/__init__.py\", line 3021, in _dep_map\n",
      "    return self.__dep_map\n",
      "  File \"/usr/local/lib/python3.7/site-packages/pip/_vendor/pkg_resources/__init__.py\", line 2815, in __getattr__\n",
      "    raise AttributeError(attr)\n",
      "AttributeError: _DistInfoDistribution__dep_map\n",
      "\n",
      "During handling of the above exception, another exception occurred:\n",
      "\n",
      "Traceback (most recent call last):\n",
      "  File \"/usr/local/lib/python3.7/site-packages/pip/_vendor/pkg_resources/__init__.py\", line 3012, in _parsed_pkg_info\n",
      "    return self._pkg_info\n",
      "  File \"/usr/local/lib/python3.7/site-packages/pip/_vendor/pkg_resources/__init__.py\", line 2815, in __getattr__\n",
      "    raise AttributeError(attr)\n",
      "AttributeError: _pkg_info\n",
      "\n",
      "During handling of the above exception, another exception occurred:\n",
      "\n",
      "Traceback (most recent call last):\n",
      "  File \"/usr/local/lib/python3.7/site-packages/pip/_internal/commands/install.py\", line 535, in _determine_conflicts\n",
      "    return check_install_conflicts(to_install)\n",
      "  File \"/usr/local/lib/python3.7/site-packages/pip/_internal/operations/check.py\", line 108, in check_install_conflicts\n",
      "    package_set, _ = create_package_set_from_installed()\n",
      "  File \"/usr/local/lib/python3.7/site-packages/pip/_internal/operations/check.py\", line 50, in create_package_set_from_installed\n",
      "    package_set[name] = PackageDetails(dist.version, dist.requires())\n",
      "  File \"/usr/local/lib/python3.7/site-packages/pip/_vendor/pkg_resources/__init__.py\", line 2736, in requires\n",
      "    dm = self._dep_map\n",
      "  File \"/usr/local/lib/python3.7/site-packages/pip/_vendor/pkg_resources/__init__.py\", line 3023, in _dep_map\n",
      "    self.__dep_map = self._compute_dependencies()\n",
      "  File \"/usr/local/lib/python3.7/site-packages/pip/_vendor/pkg_resources/__init__.py\", line 3032, in _compute_dependencies\n",
      "    for req in self._parsed_pkg_info.get_all('Requires-Dist') or []:\n",
      "  File \"/usr/local/lib/python3.7/site-packages/pip/_vendor/pkg_resources/__init__.py\", line 3014, in _parsed_pkg_info\n",
      "    metadata = self.get_metadata(self.PKG_INFO)\n",
      "  File \"/usr/local/lib/python3.7/site-packages/pip/_vendor/pkg_resources/__init__.py\", line 1895, in get_metadata\n",
      "    raise KeyError(\"No metadata except PKG-INFO is available\")\n",
      "KeyError: 'No metadata except PKG-INFO is available'\u001b[0m\n"
     ]
    }
   ],
   "source": [
    "!pip install de_sim"
   ]
  },
  {
   "cell_type": "markdown",
   "metadata": {
    "codehighlighter": [
     [
      0,
      0
     ],
     [
      0,
      0
     ]
    ]
   },
   "source": [
    "<!-- :Author: Arthur Goldberg <Arthur.Goldberg@mssm.edu> -->\n",
    "<!-- :Date: 2020-07-13 -->\n",
    "<!-- :Copyright: 2020, Karr Lab -->\n",
    "<!-- :License: MIT -->\n",
    "\n",
    "# A stochastic epidemic model\n",
    "\n",
    "<font size=\"4\">\n",
    "Epidemics occur when infectious diseases spread through a susceptible population.\n",
    "Models that classify individuals by their infectious state are used to study the dynamics of epidemics.\n",
    "The simplest approach considers three infectious states:\n",
    "<br>\n",
    "\n",
    "* *Susceptible*: a person who can become infected if exposed\n",
    "* *Infectious*: a person who is infected, and can transmit the infection to a susceptible person\n",
    "* *Recovered*: a person who has recovered from an infection, and cannot be reinfected\n",
    "\n",
    "Dynamic analyses of epidemics are called Susceptible, Infectious, or Recovered (SIR) models.\n",
    "SIR models are described by the initial population of people in each state and the rates at which they transition between states.\n",
    "\n",
    "![SIR model states and transitions](SIR_Flow_Diagram.svg)\n",
    "*SIR model states and transitions*\n",
    "\n",
    "S and I represent the number of individuals in states Susceptible and Infectious, respectively. &beta; and &gamma; are model parameters.\n",
    "\n",
    "We present a stochastic SIR model that demonstrates the core features of DE-Sim.\n",
    "The SIR model uses DE-Sim to implement a continuous-time Markov chain model, as described in section 3 of Allen, 2017. Infectious Disease Modelling.\n",
    "\n",
    "Let's implement and use the SIR model.\n",
    "\n",
    "![gray_line](gray_horiz_line.svg)\n",
    "\n",
    "First, define the event messages\n",
    "</font>"
   ]
  },
  {
   "cell_type": "code",
   "execution_count": 2,
   "metadata": {},
   "outputs": [],
   "source": [
    "\" DE-Sim implementation of an SIR epidemic model \"\n",
    "\n",
    "import enum\n",
    "import numpy\n",
    "\n",
    "import de_sim\n",
    "\n",
    "\n",
    "class TransitionMessage(de_sim.EventMessage):\n",
    "    \"Message for all model transitions\"\n",
    "    attributes = ['transition_type']\n",
    "\n",
    "\n",
    "class StateTransitionType(enum.Enum):\n",
    "    \"\"\" State transition types\n",
    "    \"\"\"\n",
    "    s_to_i = enum.auto()   # Transition from Susceptible to Infectious\n",
    "    i_to_r = enum.auto()   # Transition from Infectious to Recovered\n",
    "\n",
    "\n",
    "MESSAGE_TYPES = [TransitionMessage]"
   ]
  },
  {
   "cell_type": "markdown",
   "metadata": {},
   "source": [
    "![gray_line](gray_horiz_line.svg)\n",
    "<font size=\"4\">\n",
    "\n",
    "Next, define a simulation object. It has these attributes:\n",
    "<br>\n",
    "    \n",
    "* s (int): number of susceptible subjects\n",
    "* i (int): number of infectious subjects\n",
    "* N (int): total number of susceptible subjects, a constant\n",
    "* beta (float): SIR beta parameter\n",
    "* gamma (float): SIR gamma parameter\n",
    "* recording_period (float): time step for recording state\n",
    "* random_state (numpy.random.RandomState): a random state\n",
    "* history (list): list of recorded states\n",
    "\n",
    "</font>"
   ]
  },
  {
   "cell_type": "code",
   "execution_count": 3,
   "metadata": {
    "codehighlighter": [
     [
      14,
      15
     ],
     [
      34,
      35
     ],
     [
      49,
      51
     ],
     [
      52,
      53
     ],
     [
      44,
      45
     ]
    ]
   },
   "outputs": [],
   "source": [
    "class SIR(de_sim.SimulationObject):\n",
    "    \"\"\" Implement a Susceptible, Infectious, or Recovered (SIR) epidemic model \"\"\"\n",
    "    def __init__(self, name, s, i, N, beta, gamma, recording_period):\n",
    "        \"\"\" Initialize an SIR instance \"\"\"\n",
    "        self.s = s\n",
    "        self.i = i\n",
    "        self.N = N\n",
    "        self.beta = beta\n",
    "        self.gamma = gamma\n",
    "        self.recording_period = recording_period\n",
    "        self.random_state = numpy.random.RandomState()\n",
    "        self.history = []\n",
    "        super().__init__(name)\n",
    "\n",
    "    def init_before_run(self):\n",
    "        \"\"\" Send the initial events, and record the initial state. \"\"\"\n",
    "        self.schedule_next_event()\n",
    "\n",
    "    def schedule_next_event(self):\n",
    "        \"\"\" Schedule the next SIR event \"\"\"\n",
    "        rates = {'s_to_i': self.beta * self.s * self.i / self.N,\n",
    "                 'i_to_r': self.gamma * self.i}\n",
    "        lambda_val = rates['s_to_i'] + rates['i_to_r']\n",
    "        if lambda_val == 0:\n",
    "            # no transitions remain\n",
    "            return\n",
    "        tau = self.random_state.exponential(1.0/lambda_val)\n",
    "        prob_s_to_i = rates['s_to_i'] / lambda_val\n",
    "        if self.random_state.random_sample() < prob_s_to_i:\n",
    "            self.send_event(tau, self, TransitionMessage(StateTransitionType.s_to_i))\n",
    "        else:\n",
    "            self.send_event(tau, self, TransitionMessage(StateTransitionType.i_to_r))\n",
    "\n",
    "    def handle_state_transition(self, event):\n",
    "        \"\"\" Handle an infectious state transition event \"\"\"\n",
    "        transition_type = event.message.transition_type\n",
    "        if transition_type is StateTransitionType.s_to_i:\n",
    "            self.s -= 1\n",
    "            self.i += 1\n",
    "        elif transition_type is StateTransitionType.i_to_r:\n",
    "            self.i -= 1\n",
    "        self.schedule_next_event()\n",
    "\n",
    "    event_handlers = [(TransitionMessage, 'handle_state_transition')]\n",
    "\n",
    "    # register the message types sent\n",
    "    messages_sent = MESSAGE_TYPES"
   ]
  },
  {
   "cell_type": "code",
   "execution_count": 4,
   "metadata": {},
   "outputs": [],
   "source": [
    "from de_sim.checkpoint import AccessCheckpoints, Checkpoint\n",
    "from de_sim.simulation_checkpoint_object import (AccessStateObjectInterface,\n",
    "                                                 CheckpointSimulationObject)\n",
    "\n",
    "class AccessSIRObjectState(AccessStateObjectInterface):\n",
    "    \"\"\" Get the state of an SIR object\n",
    "\n",
    "    Attributes:\n",
    "        sir (`obj`): an SIR object\n",
    "        random_state (`numpy.random.RandomState`): a random state\n",
    "    \"\"\"\n",
    "\n",
    "    def __init__(self, sir):\n",
    "        self.sir = sir\n",
    "        self.random_state = sir.random_state\n",
    "\n",
    "    def get_checkpoint_state(self, time):\n",
    "        \"\"\" Get the SIR object's state\n",
    "\n",
    "        Args:\n",
    "            time (`float`): current time; ignored\n",
    "        \"\"\"\n",
    "        return dict(s=self.sir.s,\n",
    "                    i=self.sir.i)\n",
    "\n",
    "    def get_random_state(self):\n",
    "        \"\"\" Get the SIR object's random state\n",
    "        \"\"\"\n",
    "        return self.random_state.get_state()"
   ]
  },
  {
   "cell_type": "markdown",
   "metadata": {},
   "source": [
    "![gray_line](gray_horiz_line.svg)\n",
    "<font size=\"4\">\n",
    "The next cell defines code to run the SIR model and visualize its predictions.\n",
    "</font>"
   ]
  },
  {
   "cell_type": "code",
   "execution_count": 5,
   "metadata": {
    "code_folding": [
     22
    ]
   },
   "outputs": [],
   "source": [
    "import pandas\n",
    "\n",
    "class RunSIR(object):\n",
    "\n",
    "    def __init__(self, checkpoint_dir):\n",
    "        self.checkpoint_dir = checkpoint_dir\n",
    "\n",
    "    def simulate(self, time_max, **sir_args):\n",
    "        \"\"\" Create and run an SIR simulation\n",
    "\n",
    "        Args:\n",
    "            time_max (`float`): simulation end time\n",
    "            sir_args (`dict`): arguments for an SIR object\n",
    "        \"\"\"\n",
    "        # create a simulator\n",
    "        simulator = de_sim.Simulator()\n",
    "\n",
    "        # create an SIR instance\n",
    "        self.sir = sir = SIR(**sir_args)\n",
    "        simulator.add_object(sir)\n",
    "\n",
    "        # create a checkpoint simulation object\n",
    "        access_state_object = AccessSIRObjectState(sir)\n",
    "        checkpointing_obj = CheckpointSimulationObject('checkpointing_obj',\n",
    "                                                       sir_args['recording_period'],\n",
    "                                                       self.checkpoint_dir,\n",
    "                                                       access_state_object)\n",
    "        simulator.add_object(checkpointing_obj)\n",
    "\n",
    "        # initialize simulation, which sends the SIR instance an initial event message\n",
    "        simulator.initialize()\n",
    "\n",
    "        # run the simulation\n",
    "        event_num = simulator.simulate(time_max).num_events\n",
    "\n",
    "    def last_checkpoint(self):\n",
    "        \"\"\" Get the last checkpoint of the last simulation run\n",
    "\n",
    "        Returns:\n",
    "            `Checkpoint`: the last checkpoint of the last simulation run\n",
    "        \"\"\"\n",
    "        access_checkpoints = AccessCheckpoints(self.checkpoint_dir)\n",
    "        last_checkpoint_time = access_checkpoints.list_checkpoints()[-1]\n",
    "        return access_checkpoints.get_checkpoint(time=last_checkpoint_time)\n",
    "\n",
    "    def history_to_dataframe(self):\n",
    "        fields = ('s', 'i', 'r')\n",
    "        hist = []\n",
    "        index = []\n",
    "        access_checkpoints = AccessCheckpoints(self.checkpoint_dir)\n",
    "        for checkpoint_time in access_checkpoints.list_checkpoints():\n",
    "            state = access_checkpoints.get_checkpoint(time=checkpoint_time).state\n",
    "            state_as_list = [state['s'], state['i'], self.sir.N - state['s'] - state['i']]\n",
    "            hist.append(dict(zip(fields, state_as_list)))\n",
    "            index.append(checkpoint_time)\n",
    "        return pandas.DataFrame(hist)"
   ]
  },
  {
   "cell_type": "markdown",
   "metadata": {},
   "source": [
    "![gray_line](gray_horiz_line.svg)\n",
    "<font size=\"4\">\n",
    "Use the model to view an epidemic's predictions.\n",
    "We use parameters from Allen (2017), and print and plot the trajectory of a single simulation.\n",
    "Since the model is stochastic, each run produces a different trajectory.\n",
    "    </font>"
   ]
  },
  {
   "cell_type": "code",
   "execution_count": 6,
   "metadata": {},
   "outputs": [
    {
     "data": {
      "image/png": "[encoded data removed]",
      "text/plain": [
       "<Figure size 432x288 with 1 Axes>"
      ]
     },
     "metadata": {
      "needs_background": "light"
     },
     "output_type": "display_data"
    }
   ],
   "source": [
    "import tempfile\n",
    "\n",
    "sir_args = dict(name='sir',\n",
    "                s=98,\n",
    "                i=2,\n",
    "                N=100,\n",
    "                beta=0.3,\n",
    "                gamma=0.15,\n",
    "                recording_period=10)\n",
    "with tempfile.TemporaryDirectory() as tmpdirname:\n",
    "    run_sir = RunSIR(tmpdirname)\n",
    "    run_sir.simulate(100, **sir_args)\n",
    "\n",
    "    # print and plot an epidemic's predicted trajectory\n",
    "    sir_data_frame = run_sir.history_to_dataframe()\n",
    "    axes = sir_data_frame.plot()\n",
    "    axes.set_xlabel(\"Time\")\n",
    "    rv = axes.set_ylabel(\"Population\")"
   ]
  },
  {
   "cell_type": "markdown",
   "metadata": {},
   "source": [
    "![gray_line](gray_horiz_line.svg)\n",
    "<font size=\"4\">\n",
    "An important prediction generated by the SIR model is the severity of the epidemic, which can be summarized by the fraction of people who became infected.\n",
    "We run an ensemble of simulations and examine the predicted distribution of severity.\n",
    "    </font>"
   ]
  },
  {
   "cell_type": "code",
   "execution_count": 7,
   "metadata": {},
   "outputs": [
    {
     "data": {
      "image/png": "[encoded data removed]",
      "text/plain": [
       "<Figure size 432x288 with 1 Axes>"
      ]
     },
     "metadata": {
      "needs_background": "light"
     },
     "output_type": "display_data"
    }
   ],
   "source": [
    "import math\n",
    "\n",
    "num_sims = 100\n",
    "infection_rates= []\n",
    "\n",
    "for _ in range(num_sims):\n",
    "    with tempfile.TemporaryDirectory() as tmpdirname:\n",
    "        run_sirs = RunSIR(tmpdirname)\n",
    "        run_sirs.simulate(time_max=60, **sir_args)\n",
    "        # infection rate = infectious + recovered\n",
    "        # N = s + i + r => i + r = N - s\n",
    "        final_state = run_sirs.last_checkpoint().state\n",
    "        N = sir_args['N']\n",
    "        infection_rate = (N - final_state['s'])/N\n",
    "        infection_rates.append(infection_rate)\n",
    "\n",
    "import matplotlib.pyplot as plt\n",
    "fig = plt.figure()\n",
    "ax = fig.add_subplot(111)\n",
    "rv = plt.hist(infection_rates)\n",
    "ax.set_title('Infection rate distribution')\n",
    "ax.set_xlabel('Infection rate')\n",
    "rv = ax.set_ylabel('Frequency')"
   ]
  },
  {
   "cell_type": "markdown",
   "metadata": {},
   "source": [
    "<font size=\"4\">\n",
    "As predicted by Allen's (2017) analysis, for the parameters in `sir_args` the infection rate distribution is bimodal. Most of the epidemics infect a majority of the population and a small fraction of them (Allen predicts 25%) burn out and infect only a minority of the population.\n",
    "\n",
    "</font>"
   ]
  },
  {
   "cell_type": "markdown",
   "metadata": {},
   "source": [
    "![gray_line](gray_horiz_line.svg)\n",
    "\n",
    "<font size=\"4\">\n",
    "The simple model above only touches the surface of epidemic modeling. Many extensions are possible:\n",
    "\n",
    "* A spatial model with multiple geographic areas: each area would be represented by an instance of SIR.\n",
    "* An extension of the spatial model that also represents travel between geographic areas\n",
    "* A model that represents individuals in more states, such as multiple infectious states which distinguish between asymptomatic and symptomatic individuals, with a lower transmission parameter &beta; for symptomatic individuals who would likely isolate while recovering\n",
    "* A model that can model both small and large populations: it would use the stochastic approach above to integrate small populations and ODEs to integrate large populations. Models and simulators that use multiple integration methods are called *multi-algorithmic*.\n",
    "\n",
    "We encourage you to experiment with different parameters for this model and build your own models!\n",
    "    </font>"
   ]
  },
  {
   "cell_type": "markdown",
   "metadata": {
    "codehighlighter": [
     [
      2,
      4
     ]
    ]
   },
   "source": [
    "**References**\n",
    "\n",
    "Allen, L.J., 2017. A primer on stochastic epidemic models: Formulation, numerical\n",
    "simulation, and analysis. Infectious Disease Modelling, 2(2), pp.128-142."
   ]
  }
 ],
 "metadata": {
  "kernelspec": {
   "display_name": "Python 3",
   "language": "python",
   "name": "python3"
  },
  "language_info": {
   "codemirror_mode": {
    "name": "ipython",
    "version": 3
   },
   "file_extension": ".py",
   "mimetype": "text/x-python",
   "name": "python",
   "nbconvert_exporter": "python",
   "pygments_lexer": "ipython3",
   "version": "3.7.6"
  },
  "toc": {
   "base_numbering": 1,
   "nav_menu": {},
   "number_sections": false,
   "sideBar": true,
   "skip_h1_title": false,
   "title_cell": "Table of Contents",
   "title_sidebar": "Contents",
   "toc_cell": false,
   "toc_position": {
    "height": "calc(100% - 180px)",
    "left": "10px",
    "top": "150px",
    "width": "165px"
   },
   "toc_section_display": true,
   "toc_window_display": false
  },
  "varInspector": {
   "cols": {
    "lenName": 16,
    "lenType": 16,
    "lenVar": 40
   },
   "kernels_config": {
    "python": {
     "delete_cmd_postfix": "",
     "delete_cmd_prefix": "del ",
     "library": "var_list.py",
     "varRefreshCmd": "print(var_dic_list())"
    },
    "r": {
     "delete_cmd_postfix": ") ",
     "delete_cmd_prefix": "rm(",
     "library": "var_list.r",
     "varRefreshCmd": "cat(var_dic_list()) "
    }
   },
   "types_to_exclude": [
    "module",
    "function",
    "builtin_function_or_method",
    "instance",
    "_Feature"
   ],
   "window_display": false
  }
 },
 "nbformat": 4,
 "nbformat_minor": 4
}
