{
 "cells": [
  {
   "cell_type": "markdown",
   "metadata": {},
   "source": [
    "<!-- :Author: Arthur Goldberg <Arthur.Goldberg@mssm.edu> -->\n",
    "<!-- :Date: 2020-07-13 -->\n",
    "<!-- :Copyright: 2020, Karr Lab -->\n",
    "<!-- :License: MIT -->\n",
    "# DE-Sim tutorial\n",
    "\n",
    "DE-Sim is an open-source, object-oriented, discrete-event simulation (OO DES) tool implemented in Python.\n",
    "DE-Sim makes it easy to build and simulate discrete-event models.\n",
    "This page introduces the basic concepts of discrete-event modeling and teaches you how to build and simulate discrete-event models with DE-Sim. \n",
    "\n",
    "## Installation\n",
    "Use `pip` to install `de_sim`."
   ]
  },
  {
   "cell_type": "code",
   "execution_count": 1,
   "metadata": {
    "scrolled": false
   },
   "outputs": [
    {
     "name": "stdout",
     "output_type": "stream",
     "text": [
      "Requirement already satisfied: de_sim in /root/.wc/wc_sandbox/packages/de_sim (0.0.7)\n",
      "Requirement already satisfied: configobj in /usr/local/lib/python3.7/site-packages (from de_sim) (5.0.6)\n",
      "Requirement already satisfied: logging2 in /usr/local/lib/python3.7/site-packages (from de_sim) (0.1.2)\n",
      "Requirement already satisfied: matplotlib in /usr/local/lib/python3.7/site-packages (from de_sim) (3.1.2)\n",
      "Requirement already satisfied: numpy in /usr/local/lib/python3.7/site-packages (from de_sim) (1.18.1)\n",
      "Requirement already satisfied: progressbar2>=3.39 in /usr/local/lib/python3.7/site-packages (from de_sim) (3.47.0)\n",
      "Requirement already satisfied: pympler in /usr/local/lib/python3.7/site-packages (from de_sim) (0.8)\n",
      "Requirement already satisfied: setuptools in /usr/local/lib/python3.7/site-packages (from de_sim) (44.0.0)\n",
      "Requirement already satisfied: wc_utils[git]>=0.0.16 in /root/.wc/wc_sandbox/packages/wc_utils (from de_sim) (0.0.21)\n",
      "Requirement already satisfied: six in /usr/local/lib/python3.7/site-packages/six-1.12.0-py3.7.egg (from configobj->de_sim) (1.12.0)\n",
      "Requirement already satisfied: kiwisolver>=1.0.1 in /usr/local/lib/python3.7/site-packages (from matplotlib->de_sim) (1.1.0)\n",
      "Requirement already satisfied: python-dateutil>=2.1 in /usr/local/lib/python3.7/site-packages (from matplotlib->de_sim) (2.8.1)\n",
      "Requirement already satisfied: pyparsing!=2.0.4,!=2.1.2,!=2.1.6,>=2.0.1 in /usr/local/lib/python3.7/site-packages (from matplotlib->de_sim) (2.4.6)\n",
      "Requirement already satisfied: cycler>=0.10 in /usr/local/lib/python3.7/site-packages (from matplotlib->de_sim) (0.10.0)\n",
      "Requirement already satisfied: python-utils>=2.3.0 in /usr/local/lib/python3.7/site-packages (from progressbar2>=3.39->de_sim) (2.3.0)\n",
      "Requirement already satisfied: abduct in /usr/local/lib/python3.7/site-packages (from wc_utils[git]>=0.0.16->de_sim) (2.0.1)\n",
      "Requirement already satisfied: attrdict in /usr/local/lib/python3.7/site-packages (from wc_utils[git]>=0.0.16->de_sim) (2.0.1)\n",
      "Requirement already satisfied: dataclasses in /usr/local/lib/python3.7/site-packages (from wc_utils[git]>=0.0.16->de_sim) (0.6)\n",
      "Requirement already satisfied: diskcache in /usr/local/lib/python3.7/site-packages (from wc_utils[git]>=0.0.16->de_sim) (4.1.0)\n",
      "Requirement already satisfied: humanfriendly in /usr/local/lib/python3.7/site-packages (from wc_utils[git]>=0.0.16->de_sim) (4.18)\n",
      "Requirement already satisfied: mendeleev in /usr/local/lib/python3.7/site-packages (from wc_utils[git]>=0.0.16->de_sim) (0.5.1)\n",
      "Requirement already satisfied: natsort in /usr/local/lib/python3.7/site-packages (from wc_utils[git]>=0.0.16->de_sim) (6.2.0)\n",
      "Requirement already satisfied: objsize in /usr/local/lib/python3.7/site-packages (from wc_utils[git]>=0.0.16->de_sim) (0.3.2)\n",
      "Requirement already satisfied: openpyxl<=3.0.1,>=2.6.1 in /usr/local/lib/python3.7/site-packages (from wc_utils[git]>=0.0.16->de_sim) (3.0.1)\n",
      "Requirement already satisfied: pint>=0.10 in /usr/local/lib/python3.7/site-packages (from wc_utils[git]>=0.0.16->de_sim) (0.10)\n",
      "Requirement already satisfied: pronto>=1 in /usr/local/lib/python3.7/site-packages (from wc_utils[git]>=0.0.16->de_sim) (1.1.3)\n",
      "Requirement already satisfied: pyexcel>=0.5.9.1 in /usr/local/lib/python3.7/site-packages (from wc_utils[git]>=0.0.16->de_sim) (0.5.15)\n",
      "Requirement already satisfied: pyexcel_io>=0.5.9.1 in /usr/local/lib/python3.7/site-packages (from wc_utils[git]>=0.0.16->de_sim) (0.5.20)\n",
      "Requirement already satisfied: pyyaml>=5.1 in /usr/local/lib/python3.7/site-packages (from wc_utils[git]>=0.0.16->de_sim) (5.3)\n",
      "Requirement already satisfied: qualname in /usr/local/lib/python3.7/site-packages (from wc_utils[git]>=0.0.16->de_sim) (0.1.0)\n",
      "Requirement already satisfied: requests in /usr/local/lib/python3.7/site-packages/requests-2.22.0-py3.7.egg (from wc_utils[git]>=0.0.16->de_sim) (2.22.0)\n",
      "Requirement already satisfied: xlsxwriter in /usr/local/lib/python3.7/site-packages (from wc_utils[git]>=0.0.16->de_sim) (1.2.7)\n",
      "Requirement already satisfied: gitpython in /usr/local/lib/python3.7/site-packages (from wc_utils[git]>=0.0.16->de_sim) (3.0.5)\n",
      "Requirement already satisfied: pygithub in /usr/local/lib/python3.7/site-packages (from wc_utils[git]>=0.0.16->de_sim) (1.45)\n",
      "Requirement already satisfied: contextlib2 in /usr/local/lib/python3.7/site-packages (from abduct->wc_utils[git]>=0.0.16->de_sim) (0.6.0.post1)\n",
      "Requirement already satisfied: sqlalchemy in /usr/local/lib/python3.7/site-packages (from mendeleev->wc_utils[git]>=0.0.16->de_sim) (1.3.12)\n",
      "Requirement already satisfied: pandas in /usr/local/lib/python3.7/site-packages (from mendeleev->wc_utils[git]>=0.0.16->de_sim) (0.25.3)\n",
      "Requirement already satisfied: pyfiglet in /usr/local/lib/python3.7/site-packages (from mendeleev->wc_utils[git]>=0.0.16->de_sim) (0.8.post1)\n",
      "Requirement already satisfied: colorama in /usr/local/lib/python3.7/site-packages (from mendeleev->wc_utils[git]>=0.0.16->de_sim) (0.4.3)\n",
      "Requirement already satisfied: et-xmlfile in /usr/local/lib/python3.7/site-packages (from openpyxl<=3.0.1,>=2.6.1->wc_utils[git]>=0.0.16->de_sim) (1.0.1)\n",
      "Requirement already satisfied: jdcal in /usr/local/lib/python3.7/site-packages (from openpyxl<=3.0.1,>=2.6.1->wc_utils[git]>=0.0.16->de_sim) (1.4.1)\n",
      "Requirement already satisfied: networkx~=2.3 in /usr/local/lib/python3.7/site-packages (from pronto>=1->wc_utils[git]>=0.0.16->de_sim) (2.4)\n",
      "Requirement already satisfied: contexter~=0.1.4 in /usr/local/lib/python3.7/site-packages (from pronto>=1->wc_utils[git]>=0.0.16->de_sim) (0.1.4)\n",
      "Requirement already satisfied: frozendict~=1.2 in /usr/local/lib/python3.7/site-packages (from pronto>=1->wc_utils[git]>=0.0.16->de_sim) (1.2)\n",
      "Requirement already satisfied: fastobo~=0.6.0 in /usr/local/lib/python3.7/site-packages (from pronto>=1->wc_utils[git]>=0.0.16->de_sim) (0.6.1)\n",
      "Requirement already satisfied: nanoset~=0.1.2; platform_python_implementation == \"CPython\" in /usr/local/lib/python3.7/site-packages (from pronto>=1->wc_utils[git]>=0.0.16->de_sim) (0.1.3)\n",
      "Requirement already satisfied: chardet~=3.0 in /usr/local/lib/python3.7/site-packages/chardet-3.0.4-py3.7.egg (from pronto>=1->wc_utils[git]>=0.0.16->de_sim) (3.0.4)\n",
      "Requirement already satisfied: texttable>=0.8.2 in /usr/local/lib/python3.7/site-packages (from pyexcel>=0.5.9.1->wc_utils[git]>=0.0.16->de_sim) (1.6.2)\n",
      "Requirement already satisfied: lml>=0.0.4 in /usr/local/lib/python3.7/site-packages (from pyexcel>=0.5.9.1->wc_utils[git]>=0.0.16->de_sim) (0.0.9)\n",
      "Requirement already satisfied: idna<2.9,>=2.5 in /usr/local/lib/python3.7/site-packages/idna-2.8-py3.7.egg (from requests->wc_utils[git]>=0.0.16->de_sim) (2.8)\n",
      "Requirement already satisfied: urllib3!=1.25.0,!=1.25.1,<1.26,>=1.21.1 in /usr/local/lib/python3.7/site-packages (from requests->wc_utils[git]>=0.0.16->de_sim) (1.24.2)\n",
      "Requirement already satisfied: certifi>=2017.4.17 in /usr/local/lib/python3.7/site-packages/certifi-2019.9.11-py3.7.egg (from requests->wc_utils[git]>=0.0.16->de_sim) (2019.9.11)\n",
      "Requirement already satisfied: gitdb2>=2.0.0 in /usr/local/lib/python3.7/site-packages (from gitpython->wc_utils[git]>=0.0.16->de_sim) (2.0.6)\n",
      "Requirement already satisfied: deprecated in /usr/local/lib/python3.7/site-packages (from pygithub->wc_utils[git]>=0.0.16->de_sim) (1.2.7)\n",
      "Requirement already satisfied: pyjwt in /usr/local/lib/python3.7/site-packages (from pygithub->wc_utils[git]>=0.0.16->de_sim) (1.7.1)\n",
      "Requirement already satisfied: pytz>=2017.2 in /usr/local/lib/python3.7/site-packages (from pandas->mendeleev->wc_utils[git]>=0.0.16->de_sim) (2019.3)\n",
      "Requirement already satisfied: decorator>=4.3.0 in /usr/local/lib/python3.7/site-packages (from networkx~=2.3->pronto>=1->wc_utils[git]>=0.0.16->de_sim) (4.4.1)\n",
      "Requirement already satisfied: smmap2>=2.0.0 in /usr/local/lib/python3.7/site-packages (from gitdb2>=2.0.0->gitpython->wc_utils[git]>=0.0.16->de_sim) (2.0.5)\n",
      "Requirement already satisfied: wrapt<2,>=1.10 in /usr/local/lib/python3.7/site-packages (from deprecated->pygithub->wc_utils[git]>=0.0.16->de_sim) (1.11.2)\n",
      "\u001b[31mERROR: Error while checking for conflicts. Please file an issue on pip's issue tracker: https://github.com/pypa/pip/issues/new\n",
      "Traceback (most recent call last):\n",
      "  File \"/usr/local/lib/python3.7/site-packages/pip/_vendor/pkg_resources/__init__.py\", line 3021, in _dep_map\n",
      "    return self.__dep_map\n",
      "  File \"/usr/local/lib/python3.7/site-packages/pip/_vendor/pkg_resources/__init__.py\", line 2815, in __getattr__\n",
      "    raise AttributeError(attr)\n",
      "AttributeError: _DistInfoDistribution__dep_map\n",
      "\n",
      "During handling of the above exception, another exception occurred:\n",
      "\n",
      "Traceback (most recent call last):\n",
      "  File \"/usr/local/lib/python3.7/site-packages/pip/_vendor/pkg_resources/__init__.py\", line 3012, in _parsed_pkg_info\n",
      "    return self._pkg_info\n",
      "  File \"/usr/local/lib/python3.7/site-packages/pip/_vendor/pkg_resources/__init__.py\", line 2815, in __getattr__\n",
      "    raise AttributeError(attr)\n",
      "AttributeError: _pkg_info\n",
      "\n",
      "During handling of the above exception, another exception occurred:\n",
      "\n",
      "Traceback (most recent call last):\n",
      "  File \"/usr/local/lib/python3.7/site-packages/pip/_internal/commands/install.py\", line 535, in _determine_conflicts\n",
      "    return check_install_conflicts(to_install)\n",
      "  File \"/usr/local/lib/python3.7/site-packages/pip/_internal/operations/check.py\", line 108, in check_install_conflicts\n",
      "    package_set, _ = create_package_set_from_installed()\n",
      "  File \"/usr/local/lib/python3.7/site-packages/pip/_internal/operations/check.py\", line 50, in create_package_set_from_installed\n",
      "    package_set[name] = PackageDetails(dist.version, dist.requires())\n",
      "  File \"/usr/local/lib/python3.7/site-packages/pip/_vendor/pkg_resources/__init__.py\", line 2736, in requires\n",
      "    dm = self._dep_map\n",
      "  File \"/usr/local/lib/python3.7/site-packages/pip/_vendor/pkg_resources/__init__.py\", line 3023, in _dep_map\n",
      "    self.__dep_map = self._compute_dependencies()\n",
      "  File \"/usr/local/lib/python3.7/site-packages/pip/_vendor/pkg_resources/__init__.py\", line 3032, in _compute_dependencies\n",
      "    for req in self._parsed_pkg_info.get_all('Requires-Dist') or []:\n",
      "  File \"/usr/local/lib/python3.7/site-packages/pip/_vendor/pkg_resources/__init__.py\", line 3014, in _parsed_pkg_info\n",
      "    metadata = self.get_metadata(self.PKG_INFO)\n",
      "  File \"/usr/local/lib/python3.7/site-packages/pip/_vendor/pkg_resources/__init__.py\", line 1895, in get_metadata\n",
      "    raise KeyError(\"No metadata except PKG-INFO is available\")\n",
      "KeyError: 'No metadata except PKG-INFO is available'\u001b[0m\n"
     ]
    }
   ],
   "source": [
    "!pip install de_sim"
   ]
  },
  {
   "cell_type": "markdown",
   "metadata": {},
   "source": [
    "![gray_line](gray_horiz_line.svg)\n",
    "\n",
    "## DE-Sim model of a one-dimensional random walk\n",
    "\n",
    "<font size=\"4\">Three steps: define an event message class; define a simulation object class; and build and run a simulation.</font>\n",
    "\n",
    "### 1: Create an event message class by subclassing `EventMessage`.\n",
    "\n",
    "<font size=\"4\">Each DE-Sim event contains an event message that provides data to the simulation object which executes the event.\n",
    "The random walk model sends event messages that contain the value of a random step.</font>"
   ]
  },
  {
   "cell_type": "code",
   "execution_count": 2,
   "metadata": {},
   "outputs": [],
   "source": [
    "import de_sim\n",
    "\n",
    "class RandomStepMessage(de_sim.EventMessage):\n",
    "    \"An event message class that stores the value of a random walk step\"\n",
    "    attributes = ['step']"
   ]
  },
  {
   "cell_type": "markdown",
   "metadata": {},
   "source": [
    "![gray_line](gray_horiz_line.svg)\n",
    "\n",
    "### 2: Subclass `SimulationObject` to define a simulation object class\n",
    "\n",
    "<font size=\"4\">\n",
    "Simulation objects are like threads: a simulation's scheduler decides when to execute them, and their execution is suspended when they have no work to do.\n",
    "But a DES scheduler schedules simulation objects to ensure that events occur in simulation time order. Precisely, the fundamental invariant of discrete-event simulation:\n",
    "<br>\n",
    "<br>\n",
    "1. All events in a simulation are executed in non-decreasing time order.\n",
    "\n",
    "By guaranteeing this behavior, the DE-Sim scheduler ensures that causality relationships between events are respected.\n",
    "\n",
    "This invariant has two consequences:\n",
    "\n",
    "1. All synchronization between simulation objects is controlled by the simulation times of events.\n",
    "2. Each simulation object executes its events in non-decreasing time order.\n",
    "\n",
    "The Python classes that generate and handle simulation events are simulation object classes, subclasses of `SimulationObject` which uses a custom class creation method that gives special meaning to certain methods and attributes.\n",
    "\n",
    "Below, we define a simulation object class that models a random walk which randomly selects the time delay between steps, and illustrates all key features of `SimulationObject`.\n",
    "</font>"
   ]
  },
  {
   "cell_type": "code",
   "execution_count": 3,
   "metadata": {},
   "outputs": [],
   "source": [
    "import random\n",
    "\n",
    "class RandomWalkSimulationObject(de_sim.SimulationObject):\n",
    "    \" A 1D random walk model, with random delays between steps \"\n",
    "\n",
    "    def __init__(self, name):\n",
    "        super().__init__(name)\n",
    "\n",
    "    def init_before_run(self):\n",
    "        \" Initialize before a simulation run; called by the simulator \"\n",
    "        self.position = 0\n",
    "        self.history = {'times': [0],\n",
    "                        'positions': [0]}\n",
    "        self.schedule_next_step()\n",
    "\n",
    "    def schedule_next_step(self):\n",
    "        \" Schedule the next event, which is a step \"\n",
    "        # A step moves -1 or +1 with equal probability\n",
    "        step_value = random.choice([-1, +1])\n",
    "        # The time between steps is 1 or 2, with equal probability\n",
    "        delay = random.choice([1, 2])\n",
    "        # Schedule an event `delay` in the future for this object\n",
    "        # The event contains a `RandomStepMessage` with `step=step_value`\n",
    "        self.send_event(delay, self, RandomStepMessage(step_value))\n",
    "\n",
    "    def handle_step_event(self, event):\n",
    "        \" Handle a step event \"\n",
    "        # Update the position and history\n",
    "        step = event.message.step\n",
    "        self.position += step\n",
    "        self.history['times'].append(self.time)\n",
    "        self.history['positions'].append(self.position)\n",
    "        self.schedule_next_step()\n",
    "\n",
    "    # `event_handlers` contains pairs that map each event message class\n",
    "    # received by this simulation object to the method that handles\n",
    "    # the event message class\n",
    "    event_handlers = [(RandomStepMessage, handle_step_event)]\n",
    "\n",
    "    # messages_sent registers all message types sent by this object\n",
    "    messages_sent = [RandomStepMessage]"
   ]
  },
  {
   "cell_type": "markdown",
   "metadata": {},
   "source": [
    "<font size=\"4\">\n",
    "DE-Sim simulation objects employ special methods and attributes:\n",
    "<br>\n",
    "\n",
    "* Special `SimulationObject` methods:\n",
    "    1. **`init_before_run`** (optional): immediately before a simulation run, the simulator calls each simulation object’s `init_before_run` method. In this method simulation objects can send initial events and perform other initializations.\n",
    "    2. **`send_event`**: `send_event(delay, receiving_object, event_message)` schedules an event to occur `delay` time units in the future at simulation object `receiving_object`. `event_message` must be an `EventMessage` instance. An event can be scheduled for any simulation object in a simulation.\n",
    "The event will be executed at its scheduled simulation time by an event handler in the simulation object `receiving_object`.\n",
    "The `event` parameter in the handler will be the scheduled event, which contains `event_message` in its `message` attribute.\n",
    "    3. **event handlers**: Event handlers have the signature `event_handler(self, event)`, where `event` is a simulation event. A subclass of `SimulationObject` must define at least one event handler, as illustrated by `handle_step_event` above.\n",
    "<br>\n",
    "<br>\n",
    "* Special `SimulationObject` attributes:\n",
    "    1. **`event_handlers`**: a simulation object can receive arbitrarily many types of event messages, and implement arbitrarily many event handlers. The attribute `event_handlers` contains an iterator over pairs that map each event message class received to the event handler which handles the event message class.\n",
    "    2. **`time`**: `time` is a read-only attribute that always equals the current simulation time.\n",
    "</font>"
   ]
  },
  {
   "cell_type": "markdown",
   "metadata": {},
   "source": [
    "![gray_line](gray_horiz_line.svg)"
   ]
  },
  {
   "cell_type": "markdown",
   "metadata": {},
   "source": [
    "### 3: Execute a simulation by creating and initializing a `Simulator`, and running the simulation.\n",
    "\n",
    "<font size=\"4\">\n",
    "The `Simulator` class simulates models.\n",
    "Its `add_object` method adds a simulation object to the simulator.\n",
    "Each object in a simulation must have a unique `name`.\n",
    "The `initialize` method, which calls each simulation object’s `init_before_run` method, must be called before a simulation starts.\n",
    "\n",
    "At least one simulation object in a simulation must schedule an initial event--otherwise the simulation cannot start.\n",
    "More generally, a simulation with no events to execute will terminate.\n",
    "\n",
    "Finally, `run` simulates a model. It takes the maximum time of a simulation run. `run` also takes several optional configuration arguments.\n",
    "</font>"
   ]
  },
  {
   "cell_type": "code",
   "execution_count": 4,
   "metadata": {
    "scrolled": true
   },
   "outputs": [
    {
     "data": {
      "image/png": "[encoded data removed]",
      "text/plain": [
       "<Figure size 432x288 with 1 Axes>"
      ]
     },
     "metadata": {
      "needs_background": "light"
     },
     "output_type": "display_data"
    }
   ],
   "source": [
    "# Create a simulator\n",
    "simulator = de_sim.Simulator()\n",
    "\n",
    "# Create a random walk simulation object and add it to the simulation\n",
    "random_walk_sim_obj = RandomWalkSimulationObject('rand_walk')\n",
    "simulator.add_object(random_walk_sim_obj)\n",
    "\n",
    "# Initialize the simulation\n",
    "simulator.initialize()\n",
    "\n",
    "# Run the simulation until time 10\n",
    "max_time = 10\n",
    "simulator.run(max_time)\n",
    "\n",
    "# Plot the random walk\n",
    "import matplotlib.pyplot as plt\n",
    "plt.step(random_walk_sim_obj.history['times'],\n",
    "         random_walk_sim_obj.history['positions'])\n",
    "plt.xlabel('time')\n",
    "plt.ylabel('position')\n",
    "plt.show()"
   ]
  },
  {
   "cell_type": "markdown",
   "metadata": {},
   "source": [
    "<font size=\"4\">\n",
    "This example runs a simulation for `max_time` time units, and plots the random walk’s trajectory.\n",
    "\n",
    "This trajectory illustrates two key characteristics of discrete-event models. First, the state changes at discrete times.\n",
    "Second, since the state does not change between instantaneous events, the trajectory of any state variable is a step function.\n",
    "</font>"
   ]
  },
  {
   "cell_type": "markdown",
   "metadata": {},
   "source": [
    "![gray_line](gray_horiz_line.svg)\n",
    "\n",
    "## DE-Sim example with multiple object instances\n",
    "\n",
    "<font size=\"4\">\n",
    "We show an DE-Sim implementation of the parallel hold (PHOLD) model, frequently used to benchmark parallel DES simulators.\n",
    "<br>\n",
    "<br>\n",
    "We illustrate these DE-Sim features:\n",
    "\n",
    "* Use multiple `EventMessage` types\n",
    "* Run multiple instances of a simulation object type\n",
    "* Simulation objects scheduling events for each other\n",
    "</font>"
   ]
  },
  {
   "cell_type": "code",
   "execution_count": 5,
   "metadata": {},
   "outputs": [],
   "source": [
    "\"\"\" Messages for the PHOLD benchmark for parallel discrete-event simulators \"\"\"\n",
    "import random\n",
    "\n",
    "class MessageSentToSelf(de_sim.EventMessage):\n",
    "    \"A message that's sent to self\"\n",
    "\n",
    "class MessageSentToOtherObject(de_sim.EventMessage):\n",
    "    \"A message that's sent to another PHold simulation object\"\n",
    "\n",
    "class InitMsg(de_sim.EventMessage):\n",
    "    \"An initialization message\"\n",
    "\n",
    "MESSAGE_TYPES = [MessageSentToSelf, MessageSentToOtherObject, InitMsg]"
   ]
  },
  {
   "cell_type": "code",
   "execution_count": 6,
   "metadata": {},
   "outputs": [],
   "source": [
    "class PholdSimulationObject(de_sim.SimulationObject):\n",
    "    \"\"\" Run a PHOLD simulation \"\"\"\n",
    "    def __init__(self, name, args):\n",
    "        self.args = args\n",
    "        super().__init__(name)\n",
    "\n",
    "    def init_before_run(self):\n",
    "        self.send_event(random.expovariate(1.0), self, InitMsg())\n",
    "\n",
    "    @staticmethod\n",
    "    def record_event_header():\n",
    "        print('\\t'.join(('Sender', 'Send', \"Receivr\",\n",
    "                         'Event', 'Message type')))\n",
    "        print('\\t'.join(('', 'time', '', 'time', '')))\n",
    "        \n",
    "    def record_event(self, event):\n",
    "        record_format = '{}\\t{:.2f}\\t{}\\t{:.2f}\\t{}'\n",
    "        print(record_format.format(event.sending_object.name,\n",
    "                                   event.creation_time,\n",
    "                                   event.receiving_object.name,\n",
    "                                   self.time,\n",
    "                                   type(event.message).__name__))\n",
    "\n",
    "    def handle_simulation_event(self, event):\n",
    "        \"\"\" Handle a simulation event \"\"\"\n",
    "        # Record this event\n",
    "        self.record_event(event)\n",
    "        # Schedule an event\n",
    "        if random.random() < self.args.frac_self_events or \\\n",
    "            self.args.num_phold_objects == 1:\n",
    "            receiver = self\n",
    "        else:\n",
    "            # Send the event to another randomly selected object\n",
    "            obj_index = random.randrange(self.args.num_phold_objects - 1)\n",
    "            if int(self.name) <= obj_index:\n",
    "                obj_index += 1\n",
    "            receiver = self.simulator.simulation_objects[str(obj_index)]\n",
    "\n",
    "        if receiver == self:\n",
    "            message_type = MessageSentToSelf\n",
    "        else:\n",
    "            message_type = MessageSentToOtherObject\n",
    "        self.send_event(random.expovariate(1.0), receiver, message_type())\n",
    "\n",
    "    event_handlers = [(sim_msg_type, 'handle_simulation_event') \\\n",
    "                      for sim_msg_type in MESSAGE_TYPES]\n",
    "\n",
    "    messages_sent = MESSAGE_TYPES"
   ]
  },
  {
   "cell_type": "markdown",
   "metadata": {},
   "source": [
    "<font size=\"4\">\n",
    "The PHOLD model runs multiple instances of `PholdSimulationObject`.\n",
    "\n",
    "`create_and_run` creates the objects and adds them to the simulator.\n",
    "\n",
    "Each `PholdSimulationObject` object is initialized with `args`, an object that defines two attributes used by all objects:\n",
    "\n",
    "* `args.num_phold_objects`: the number of PHOLD objects running\n",
    "* `args.frac_self_events`: the fraction of events sent to self\n",
    "\n",
    "At time 0, each PHOLD object schedules an `InitMsg` event for itself that occurs after a random exponential time delay with mean = 1.0.\n",
    "\n",
    "The `handle_simulation_event` method handles all events.\n",
    "Each event schedules one more event.\n",
    "A random value in [0, 1) is used to decide whether to schedule the event for itself (with probability `args.frac_self_events`) or for another PHOLD object.\n",
    "\n",
    "If the event is scheduled for another PHOLD object, this gets a reference to the object: \n",
    "\n",
    "    receiver = self.simulator.simulation_objects[str(obj_index)]\n",
    "\n",
    "The attribute `self.simulator` always references the running simulator, and `self.simulator.simulation_objects` is a dictionary that maps simulation object names to simulation objects.\n",
    "</font>"
   ]
  },
  {
   "cell_type": "markdown",
   "metadata": {},
   "source": [
    "<font size=\"4\">\n",
    "Each event is printed by `record_event`.\n",
    "It accesses the DE-Sim `Event` object that is passed to all event handlers.\n",
    "`de_sim.event.Event` contains five useful fields:\n",
    "\n",
    "* `sending_object`: the object that created and sent the event\n",
    "* `creation_time`: the simulation time when the event was created (a.k.a. its *send time*)\n",
    "* `receiving_object`: the object that received the event\n",
    "* `event_time`: the simulation time when the event must execute (a.k.a. its *receive time*)\n",
    "* `message`: the `EventMessage` carried by the event\n",
    "\n",
    "However, rather than use the event's `event_time`, `record_event` uses `self.time` to report the simulation time when the event is being executed, as they are always equal.\n",
    "</font>\n",
    "![gray_line](gray_horiz_line.svg)\n",
    "\n",
    "### Execute the simulation\n",
    "<font size=\"4\">\n",
    "Run a short simulation, and print all events:\n",
    "</font>\n",
    "\n"
   ]
  },
  {
   "cell_type": "code",
   "execution_count": 7,
   "metadata": {},
   "outputs": [],
   "source": [
    "def create_and_run(args):\n",
    "\n",
    "    # create a simulator\n",
    "    simulator = de_sim.Simulator()\n",
    "\n",
    "    # create simulation objects, and send each one an initial event message to self\n",
    "    for obj_id in range(args.num_phold_objects):\n",
    "        phold_obj = PholdSimulationObject(str(obj_id), args)\n",
    "        simulator.add_object(phold_obj)\n",
    "\n",
    "    # run the simulation\n",
    "    simulator.initialize()\n",
    "    PholdSimulationObject.record_event_header()\n",
    "    event_num = simulator.simulate(args.time_max).num_events\n",
    "    print(\"Executed {} events.\\n\".format(event_num))"
   ]
  },
  {
   "cell_type": "code",
   "execution_count": 8,
   "metadata": {
    "scrolled": true
   },
   "outputs": [
    {
     "name": "stdout",
     "output_type": "stream",
     "text": [
      "Sender\tSend\tReceivr\tEvent\tMessage type\n",
      "\ttime\t\ttime\t\n",
      "5\t0.00\t5\t0.19\tInitMsg\n",
      "3\t0.00\t3\t0.37\tInitMsg\n",
      "5\t0.19\t3\t0.38\tMessageSentToOtherObject\n",
      "1\t0.00\t1\t0.54\tInitMsg\n",
      "3\t0.37\t2\t0.59\tMessageSentToOtherObject\n",
      "2\t0.00\t2\t0.59\tInitMsg\n",
      "2\t0.59\t2\t0.72\tMessageSentToSelf\n",
      "2\t0.59\t3\t1.11\tMessageSentToOtherObject\n",
      "3\t0.38\t5\t1.16\tMessageSentToOtherObject\n",
      "3\t1.11\t3\t1.28\tMessageSentToSelf\n",
      "0\t0.00\t0\t1.48\tInitMsg\n",
      "2\t0.72\t0\t1.55\tMessageSentToOtherObject\n",
      "0\t1.48\t3\t1.80\tMessageSentToOtherObject\n",
      "Executed 13 events.\n",
      "\n"
     ]
    }
   ],
   "source": [
    "from argparse import Namespace\n",
    "args = Namespace(time_max=2,\n",
    "                 frac_self_events=0.3,\n",
    "                 num_phold_objects=6)\n",
    "create_and_run(args)"
   ]
  }
 ],
 "metadata": {
  "kernelspec": {
   "display_name": "Python 3",
   "language": "python",
   "name": "python3"
  },
  "language_info": {
   "codemirror_mode": {
    "name": "ipython",
    "version": 3
   },
   "file_extension": ".py",
   "mimetype": "text/x-python",
   "name": "python",
   "nbconvert_exporter": "python",
   "pygments_lexer": "ipython3",
   "version": "3.7.6"
  },
  "toc": {
   "base_numbering": 1,
   "nav_menu": {},
   "number_sections": false,
   "sideBar": true,
   "skip_h1_title": false,
   "title_cell": "Table of Contents",
   "title_sidebar": "Contents",
   "toc_cell": false,
   "toc_position": {},
   "toc_section_display": true,
   "toc_window_display": false
  },
  "varInspector": {
   "cols": {
    "lenName": 16,
    "lenType": 16,
    "lenVar": 40
   },
   "kernels_config": {
    "python": {
     "delete_cmd_postfix": "",
     "delete_cmd_prefix": "del ",
     "library": "var_list.py",
     "varRefreshCmd": "print(var_dic_list())"
    },
    "r": {
     "delete_cmd_postfix": ") ",
     "delete_cmd_prefix": "rm(",
     "library": "var_list.r",
     "varRefreshCmd": "cat(var_dic_list()) "
    }
   },
   "types_to_exclude": [
    "module",
    "function",
    "builtin_function_or_method",
    "instance",
    "_Feature"
   ],
   "window_display": false
  }
 },
 "nbformat": 4,
 "nbformat_minor": 4
}
